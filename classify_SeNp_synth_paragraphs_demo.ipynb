{
 "cells": [
  {
   "cell_type": "code",
   "execution_count": 1,
   "id": "f7d1c9e3-ef08-47e7-9ac3-ba93a4d7bc39",
   "metadata": {},
   "outputs": [],
   "source": [
    "from os import listdir, environ\n",
    "from sys import path\n",
    "\n",
    "from science_parse_api.api import parse_pdf\n",
    "from pathlib import Path\n",
    "\n",
    "import pandas as pd\n",
    "\n",
    "import json\n",
    "import ast\n",
    "import nltk\n",
    "\n",
    "import openai\n",
    "from openai.error import RateLimitError, InvalidRequestError\n",
    "import backoff"
   ]
  },
  {
   "cell_type": "code",
   "execution_count": 2,
   "id": "8f20d2bf-f0c4-4e1e-8cc2-c20268c1d2d9",
   "metadata": {},
   "outputs": [],
   "source": [
    "openai.organization = environ.get('OPEN_AI_ORG')\n",
    "openai.api_key = environ.get('OPEN_AI_API_KEY')"
   ]
  },
  {
   "cell_type": "code",
   "execution_count": 3,
   "id": "09559789-eee8-4494-91ed-610b09ffdd8f",
   "metadata": {},
   "outputs": [],
   "source": [
    "def parse_paragraphs(directory = './SeNp_research_articles/'):\n",
    "    pdf_dirs = [directory]\n",
    "    pdf_files = [pdf_dirs[0]+i for i in listdir(pdf_dirs[0])]\n",
    "    \n",
    "    # sci parse host\n",
    "    host = 'http://127.0.0.1'\n",
    "    port = '8080'\n",
    "    \n",
    "    paragraphs = {}\n",
    "    for fl in pdf_files:\n",
    "        pth = Path('./', fl).resolve()\n",
    "        parsed = parse_pdf(host, pth, port=port)\n",
    "        paragraphs[fl]=parsed\n",
    "\n",
    "    df = pd.DataFrame()\n",
    "    df['file'] = paragraphs.keys()\n",
    "    df['content'] = paragraphs.values() \n",
    "    df['id'] = df.content.map(lambda x: x.get('id'))\n",
    "    df['title'] = df.content.map(lambda x: x.get('title'))\n",
    "    df['abstractText'] = df.content.map(lambda x: x.get('abstractText'))\n",
    "    df['year'] = df.content.map(lambda x: x.get('year'))\n",
    "    df['authors'] = df.content.map(lambda x: x.get('authors'))\n",
    "    df['references'] = df.content.map(lambda x: x.get('references'))\n",
    "    df['sections'] = df.content.map(lambda x: x.get('sections'))\n",
    "\n",
    "    df_paragraphs = df[['file', 'id', 'title', 'year', 'authors', 'sections']].copy()\\\n",
    "    .explode('sections').reset_index(drop=True)\n",
    "\n",
    "    df_paragraphs = df_paragraphs[df_paragraphs['sections'].map(lambda x: len(x.get('text'))>0)].copy()\n",
    "\n",
    "    df_paragraphs.reset_index(drop=True, inplace=True)\n",
    "\n",
    "    return(df_paragraphs)"
   ]
  },
  {
   "cell_type": "code",
   "execution_count": 4,
   "id": "a4557302-96ae-4aa0-8851-fcc86a8db8e6",
   "metadata": {},
   "outputs": [],
   "source": [
    "@backoff.on_exception(backoff.expo, RateLimitError)\n",
    "def text_cleaning(text, model=\"gpt-4-turbo-preview\"):\n",
    "    # print(len(text.split(' ')))\n",
    "    messages = []\n",
    "    \n",
    "    messages.append({\"role\": \"system\", \"content\":'''# who you are: you are helpful assistant, expert in biochemistry.\n",
    "    # your task: remove artefacts from not so good parsed scientific text sections.\n",
    "    # you will take input in format: section text\n",
    "    # you will respond: section text cleaned from artefacts'''})\n",
    "\n",
    "    messages.append({\"role\": \"user\", \"content\": text})\n",
    "\n",
    "    try:\n",
    "        response = openai.ChatCompletion.create(model=model, messages=messages, max_tokens=4095, temperature=1)\n",
    "    except InvalidRequestError as e:\n",
    "        print(f\"Error: {e}\")\n",
    "        \n",
    "\n",
    "    # Print the response and add it to the messages list\n",
    "    chat_message = response['choices'][0]['message']['content']\n",
    "    # print(len(chat_message.split(' ')))\n",
    "    # print(f\"Bot: {chat_message}\")\n",
    "    # messages.append({\"role\": \"assistant\", \"content\": chat_message})\n",
    "    print('*', end = \"\")\n",
    "    return(chat_message)"
   ]
  },
  {
   "cell_type": "code",
   "execution_count": 5,
   "id": "11ed388e-ba66-438a-a987-7554b23cbca8",
   "metadata": {},
   "outputs": [],
   "source": [
    "@backoff.on_exception(backoff.expo, RateLimitError)\n",
    "def label_paragraph_fourth_prompt(paragraph):\n",
    "    messages = []\n",
    "    \n",
    "    messages.append({\"role\": \"system\", \"content\":'''# who you are: you are helpful assistant, expert in chemistry.\n",
    "    # your task: label paragraph that describes exact synthesis recipe for synthesis of Se nanoparticles with labels \"YES\" or \"NO\".\n",
    "    # hint: paragraph usually contains parameters such as mass of substances used, concentrations of solutions, reaction temperatures, etc. \n",
    "    # you will take input in format: #####<paragraph>#####\n",
    "    # you will respond: <label>'''})\n",
    "\n",
    "    messages.append({\"role\": \"user\", \"content\": '#####'+paragraph+'#####'})\n",
    "    \n",
    "    response = openai.ChatCompletion.create(model=\"gpt-4-turbo-preview\", \n",
    "                                            messages=messages, max_tokens=4095, temperature=1)\n",
    "\n",
    "    # Print the response and add it to the messages list\n",
    "    chat_message = response['choices'][0]['message']['content']\n",
    "    # print(f\"Bot: {chat_message}\")\n",
    "    # messages.append({\"role\": \"assistant\", \"content\": chat_message})\n",
    "    print(chat_message, end = \"\")\n",
    "    return(chat_message)"
   ]
  },
  {
   "cell_type": "code",
   "execution_count": 6,
   "id": "228974ae-ad9e-456d-9315-67461bd15893",
   "metadata": {},
   "outputs": [],
   "source": [
    "df_paragraphs = parse_paragraphs(directory='./SeNp_research_articles/')"
   ]
  },
  {
   "cell_type": "code",
   "execution_count": 7,
   "id": "da789eb2-a316-400a-8f9b-8184723a0a91",
   "metadata": {},
   "outputs": [],
   "source": [
    "df_paragraphs = \\\n",
    "df_paragraphs[df_paragraphs['sections'].map(lambda x: len(x.get('text').split(' ')))>30].copy()"
   ]
  },
  {
   "cell_type": "code",
   "execution_count": 8,
   "id": "db3254cd-809d-4798-85f4-43fd0bf52631",
   "metadata": {},
   "outputs": [
    {
     "name": "stdout",
     "output_type": "stream",
     "text": [
      "*****************************************************************************************************************************"
     ]
    }
   ],
   "source": [
    "df_paragraphs['section_text_cleaned'] = \\\n",
    "df_paragraphs['sections'].map(lambda x: text_cleaning(text = x.get('text'), model = 'gpt-3.5-turbo'))"
   ]
  },
  {
   "cell_type": "code",
   "execution_count": 10,
   "id": "fd47d9b2-b18b-42ae-a7d6-0bd18b43b750",
   "metadata": {},
   "outputs": [
    {
     "data": {
      "text/plain": [
       "0      Colloids and Surfaces B: Biointerfaces 132 (20...\n",
       "2      Department of Biotechnology, University of Ver...\n",
       "3      Biogenic metal/metalloid nanoparticles of micr...\n",
       "4      Selenium nanoparticles (SeNPs) of 10–400 nm in...\n",
       "5      Biosynthesis of SeNPs by bacterial strains\\nFi...\n",
       "                             ...                        \n",
       "135    The release of versatile drugs from PCL micros...\n",
       "136    The release of SeNP from PCL was measured in i...\n",
       "137    Although selenium nanoparticles (SeNPs) are no...\n",
       "138    From the application aspect, degradation of bi...\n",
       "139    This study was supported by the Ministry of Ed...\n",
       "Name: section_text_cleaned, Length: 125, dtype: object"
      ]
     },
     "execution_count": 10,
     "metadata": {},
     "output_type": "execute_result"
    }
   ],
   "source": [
    "df_paragraphs['section_text_cleaned']"
   ]
  },
  {
   "cell_type": "code",
   "execution_count": 11,
   "id": "50a9acf6-d005-4cd6-9e18-c9a2edc11940",
   "metadata": {},
   "outputs": [
    {
     "name": "stdout",
     "output_type": "stream",
     "text": [
      "NONONONONONONOYESNONONONONONONOYESNONONONONONOYESNONOYESNONONONONONONOYESNONONONONONONONONONONONONONONONONONONONONONONONONONOYESYESNONONONONOYESNONONONONONONONONONONONONOYESNONONOYESNONONONONOYESNOYESNONONONONONOYESNONONONONONONONONONONOYESNONONONONONONONONONONONO"
     ]
    }
   ],
   "source": [
    "df_paragraphs['label_raw'] = df_paragraphs['sections'].map(lambda x: x.get('text'))\\\n",
    ".map(lambda x: label_paragraph_fourth_prompt(x))"
   ]
  },
  {
   "cell_type": "code",
   "execution_count": 13,
   "id": "8c1e9191-b269-4a85-a1be-e2728ae0491d",
   "metadata": {},
   "outputs": [
    {
     "name": "stdout",
     "output_type": "stream",
     "text": [
      "YESNONONONONONOYESNONONONONONONOYESNONONONONONOYESNONOYESNONONONONONONOYESNONONONONONONONONONONONONONONONONONONONONONONONONONOYESYESNONONONONOYESNONONONONONONONONONONONONOYESNONONOYESNONONONONONONOYESNONONONONONOYESNONONONONONONONONONONONONONONONONONONONONONONONO"
     ]
    }
   ],
   "source": [
    "df_paragraphs['label_cleaned'] = df_paragraphs['section_text_cleaned'].map(lambda x: x)\\\n",
    ".map(lambda x: label_paragraph_fourth_prompt(x))"
   ]
  },
  {
   "cell_type": "code",
   "execution_count": 30,
   "id": "30465548-be05-4616-af7b-6544e38911df",
   "metadata": {},
   "outputs": [],
   "source": [
    "df_paragraphs.to_pickle(path = 'SeNp_synth_paragraphs_labeled.pkl')"
   ]
  },
  {
   "cell_type": "code",
   "execution_count": 36,
   "id": "6b251aaf-c246-488e-b84a-3d53db4385d7",
   "metadata": {},
   "outputs": [
    {
     "name": "stdout",
     "output_type": "stream",
     "text": [
      "Bacillus mycoides SeITE01 and Stenotrophomonas maltophilia SeITE02 have been isolated from the rhizosphere of Se hyperaccumulator plant Astragalus bisulcatus. R2A, R2D, and R1E bacterial strains were isolated from a selenium-contaminated soil through enrichment cultures in liquid R2A medium with added sodium selenite. Minimum inhibitory concentration (MIC) was determined by cultivation over a range of Na2SeO3 concentrations. For strain identification, 16S rRNA gene was sequenced, and sequencing data were analyzed. Strains were identified by 16S rRNA sequencing: R2A shows identity of 99% to Achromobacter sp.; R2D of 98% to Ensifer sp.; and R1E of 99% to Lysinibacillus sp.\n",
      "\n",
      "Biosynthesis of SeNPs and extraction protocol\n",
      "Bacterial cells were grown aerobically in Nutrient broth medium with added sodium selenite, in flasks on a rotary shaker at 27°C. SeNPs were extracted after specific time points for each strain. Cultures were centrifuged, washed, and resuspended in Tris-HCl buffer. Cells were sonicated, and debris was discarded. Supernatant containing SeNPs was processed by mixing with 1-octanol, centrifugation, and incubation. SeNPs were pelleted, washed, and resuspended in sterile water. SeNPs were collected, quantified, and stored in sterile water at 4°C. For detached material sample preparation, SeNPs were processed separately.\n",
      "**********************\n",
      "\n",
      "Materials\n",
      "Gold chloride tetrahydrate (HAuCl4) and ZnPc were purchased from Sigma-Aldrich. BSA powder was purchased from Shi Cheng Biotechnology Company. NaSeSO4, dimethyl sulfoxide (DMSO), HNO3, HClO4, and distilled water were purchased from Sinopharm Chemical Reagent Co., Ltd. Human esophageal carcinoma cells (Eca-109) were ordered from the Chinese Academy of Sciences. RPMI-1640 culture medium and fetal calf serum (FCS) were obtained from Gibco. Double stain apoptosis detection kit [Hoechst 33342/propidium iodide (PI)] was purchased from Sigma-Aldrich. CellTiter-Glo® Luminescent Cell Viability Assay reagents were purchased from Promega Corporation.\n",
      "\n",
      "Synthesis of Au2Se/Au Core–Shell Nanoparticles\n",
      "HAuCl4 (3 mM) and NaSeSO4 (2 mM) aqueous solutions (the volume ratio of NaSeSO4 to HAuCl4 was 1:10) were mixed together and stirred at room temperature, and the solution absorption spectrum was monitored every 15 min using a UV/Vis spectrophotometer. After the absorption peak shifted to an NIR wavelength, the reaction solution was precipitated via centrifugation and washed two times with distilled water to remove the free Au colloids.\n",
      "\n",
      "Preparation of Au2Se/Au-Loaded BSA Nanospheres\n",
      "A spray dryer equipped with an ultrasonic atomizer was used for preparing the nanospheres. For a typical experiment, 0.25 g of BSA powder was dissolved in 25 mL of distilled water, and the Au2Se/Au nanoparticles were then dispersed in the BSA solution. The mass ratios of BSA to Au2Se/Au were set at 50:1, 50:3, and 50:5, respectively. The powders obtained were then heated to 150 °C and maintained at this temperature for 3 h.\n",
      "\n",
      "Incorporation of ZnPc Photosensitizer and ZnPc Content Measurement\n",
      "Au2Se/Au-loaded BSA nanosphere powder (2 mg) was added into 4 mL of saturated ZnPc ethanol solution [containing 50% (v/v) of DMSO] and stirred in a dark room overnight. The solution was precipitated via centrifugation and washed with ethanol to remove the free ZnPc.\n",
      "To detect the ZnPc content in the nanospheres, 1 mL of the (Au2Se/Au and ZnPc)-loaded BSA nanospheres (2 mg/mL) aqueous solution was treated with 5 mL of HNO3 at 100 °C for 2 h and 1 mL of HClO4 at 120 °C until it was no longer visibly cloudy. HNO3 (5 mL) was added into the sample again. About 30 min later, the sample was diluted with distilled water for detecting the Zn atoms in the solution using inductively coupled plasma–atomic emission spectrometry (ICP-AES).\n",
      "\n",
      "Characterization\n",
      "The morphology of the Au2Se/Au core–shell nanoparticles was investigated using a high-resolution transmission electron microscope (HRTEM) equipped with an X-ray spectroscopy (energy-dispersive spectroscopy - EDS) analysis system, operating at 200 kV. The morphologies of the Au2Se/Au-loaded BSA nanospheres were observed using a scanning electron microscope (SEM). The size distributions of the BSA nanospheres were analyzed through the SEM results with about 200 particles for each sample. UV-Vis absorption spectra were recorded on the diode array spectrophotometer.\n",
      "\n",
      "Photothermal Conversion\n",
      "For evaluating the photothermal conversion of the Au2Se/Au-loaded BSA nanospheres, 200 μL of water-dispersed nanospheres (2 mg/mL) was placed in small glass tubes and irradiated for 0–20 min using a laser with the wavelength of 655 nm. The temperature increase was detected using a chromel–alumel thermocouple thermometer equipped with an induction probe.\n",
      "\n",
      "In Vitro Drug Release Experiments\n",
      "Au2Se/Au-loaded BSA nanospheres (3 mg) was added into 6 mL of saturated ZnPc ethanol/DMSO (1:1, v/v) solution and stirred in a dark room for 12 h. The mixture solution was divided into experiment groups and control groups. After centrifugation and washing with ethanol to remove the free ZnPc, each sample was redispersed into 300 μL of ethanol/DMSO solution in a small plastic centrifugal tube at room temperature. The experiment groups were irradiated using the 655-nm laser for 20 min, and the control groups were not irradiated. The absorption intensities of the supernatant solutions were measured at a wavelength of 670 nm.\n",
      "\n",
      "Cell Experiments\n",
      "Human esophageal carcinoma Eca-109 cells were seeded into 96-well plates and cultured in RPMI-1640 medium containing FCS and antibiotics. To observe the interaction between the cancer cells and (Au2Se/Au and ZnPc)-loaded BSA nanospheres, the culture medium was removed, and the nanospheres were added to the cells and incubated. The cells were washed and imaged using a fluorescent microscope.\n",
      "Cell viability was evaluated with and without laser irradiation. After incubation and irradiation, the cells were stained and imaged using a fluorescent microscope. The cell viability was also measured using the CellTiter-Glo® Luminescent Cell Viability Assay.\n",
      "**********************\n",
      "\n",
      "Production and purification of bio-synthesized elemental selenium nanoparticles (BioSeNPs). A 1% Comamonas testosteroni S44 inoculum was incubated in 250 mL Erlenmeyer flasks containing 100 mL Luria-Bertani (LB, Difco) broth and cultured for 12 h, then 10 mM sodium selenite was added and incubation continued at 28 °C with shaking at 150 rpm for 3 days. The production of elemental selenium was confirmed by the appearance of red color. The culture was collected by centrifugation for 10 min at 8,000 rpm. Cells were lysed by sonication after washing twice by double distilled water. Following centrifugation at 12,000 rpm for 5 min and removing the supernatant, the pellets were then resuspended in double distilled water and centrifuged twice with 80% sucrose for 30 min to remove biomass. The pure BioSeNPs on the bottom were collected after washing twice by double distilled water and temporarily preserving in −20 °C.\n",
      "\n",
      "Production of selenium nanoparticles (CheBioSeNPs) by L-reduced glutathione (GSH). The production of CheBioSeNPs followed the protocol developed by Jain et al. with minor modifications. A 1% inoculum of C. testosteroni S44 was inoculated in 250 mL Erlenmeyer flasks containing 100 mL LB broth and cultured for 3.5 days. Cells were collected by centrifugation and washed twice with double distilled water. Then, bacterial cultures were concentrated in 20 mL double distilled water and lysed by French pressure, the supernatant of lysed cellular fractions (SLCF) was collected after centrifugation. CheBioSeNPs were generated by adding 200 µL 1 M sodium selenite and 0.25 g GSH into the SLCF at room temperature. Pure CheBioSeNPs were collected by centrifugation after washing twice by double distilled water.\n",
      "\n",
      "Transmission Electron Microscopy (TEM) and Electron Dispersion X-ray Detector (EDX) analyses. C. testosteroni S44 was cultured in LB broth for 3 days with the addition of 10 mM sodium selenite. Collected cells were centrifuged at 4,000 rpm and washed twice by 0.85% sodium chloride solution. The cells were immobilized with 2.5% glutaraldehyde overnight and then rinsed three times in 0.15 M sodium cacodylated buffer for 2 h. The specimens were dehydrated in graded series of ethanol and embedded in Epon for preparation of sections. The sections were collected on copper grids with Formvar supporting membranes. Images were obtained with Hitachi H-7650 after staining with uranyl acetate. The ultrathin sections for TEM and EDX were obtained by a cryosection system.\n",
      "\n",
      "The Dynamic Light Scattering (DLS), zeta potential and Fourier Transform Infrared spectroscopy analysis of SeNPs. BioSeNPs and CheBioSeNPs were suspended in double distilled water. Absorbance was measured using a visible light spectrophotometer at wavelengths between 350 to 900 nm. Dynamic Light Scattering (DLS) and zeta potential analyses were performed using Mastersizer 2000. The lyophilized BioSeNPs, CheBioSeNPs and SLCF from C. testosteroni S44 were prepared for fourier transform infrared spectroscopy analysis. The sample was mixed with spectroscopic grade potassium bromide in a ratio of 1:100 and the spectrum recorded in the range of 400–4000 wavenumber (cm−1) on the FT-IR spectrometer, Spectrum 100 in the diffuse reflectance mode at a resolution of 4 cm−1 in KBr pellets.\n",
      "\n",
      "Quantification of Se and chemical composition of coated agents on BioSeNPs. The Se concentration was determined by the method of Keka et al. The carbohydrates were determined as described with minor modifications. Purified BioSeNPs were suspended in double distilled water and sonicated for 30 min, then held in a boiling water bath for 10 min to release as many carbohydrates as possible. The supernatant was used for quantification of carbohydrates after centrifugation. Protein quantification was performed using the Lowry assay. BioSeNPs were suspended in 10% SDS solution and held in a boiling water bath for 20 min to strip the binding proteins. The supernatant was used for protein quantification after centrifugation. Lipid extraction and determination of BioSeNPs were used the method described by Drenovsky et al.\n",
      "\n",
      "Proteins analyzed by SDS-PAGE and proteomics. Binding proteins striped from BioSeNPs and CheBioSeNPs were used the method described with minor modifications. Pure SeNPs was mixed in 10% sodium dodecyl sulfate (SDS) solution and held in a boiling water bath for 20 min to separate the binding proteins. The stripping proteins were characterized by SDS-polyacrylamide gel electrophoresis techniques. The proteins from gel were purified and digested based on the protocol described, digested peptide mixtures were analyzed by liquid chromatograph-mass separation-mass spectra. Protein identification was performed by searching the National Center for Biotechnology Information non-redundant database using the Mascot Program.\n",
      "**********************\n",
      "\n",
      "In total, 0.15 g of low molecular weight Cts was dissolved in 50 ml double distilled water by adding some drops of acetic acid (1.0%) solution at room temperature. Afterward, 25 ml of ascorbic acid (0.01 g ml−1) solution was added to the Cts solution and stirred. Following that, 25 ml of sodium selenite solution (0.005 g ml−1) was added to the Cts-ascorbic acid solution. Finally, the solution was stirred to obtain a reddish-orange homogeneous colloid. The ultraviolet-visible (UV-vis) analysis of the solution was characterized using UV-vis spectrophotometry. The UV-vis wavelength covered a range from 200 to 700 nm. The average particle size distribution was determined using a particle size analyzer (PSA). Moreover, the surface charge of Cts-Se was determined using zeta potential measurements with the same equipment. In addition, the atomic force microscopy (AFM) images were taken using an Autoprobe CP Research AFM system.\n",
      "**********************\n",
      "\n",
      "SeNPs were synthesized by a chemical reduction approach. The experiments were planned by DOE methodology, and parameters were optimized concerning the high SeNPs yielding percent and without compromising the particle size, morphology, and amorphous nature. Three different formulations were obtained by combining different stabilizing and reducing agents: (i) SeNPs stabilized with BSA (SeNPs-BSA); (ii) SeNPs stabilized with chitosan (SeNPs-Chit); and (iii) SeNPs synthesized only by reduction with glucose (SeNPs-Gluc). Sodium selenite was used as a precursor for all samples. The SeNPs-BSA and SeNPs-Chit were obtained by reduction with ascorbic acid. Briefly, sodium selenite was dissolved in distilled water at a concentration of 0.02 M (12.5 mL). In separate flasks, 0.125 M solutions of ascorbic acid were prepared (10 mL). These solutions were then mixed with solutions of chitosan or BSA (5 mL at a concentration of 0.87% w/w). In the final step, the prepared solution of sodium selenite was added dropwise. Reaction mixtures were stirred on a magnetic stirrer (1,500 rpm) until their colors changed to red-orange. The mass ratio between sodium selenite and chitosan or BSA was adjusted to 1:1. For the third formulation (SeNPs-Gluc), glucose was firstly dissolved in distilled water at a concentration of 0.055 M (25 mL). This solution was then placed on a magnetic stirrer, heated up to 130◦C, and stirred at 1,500 rpm. The 0.017 M solution of sodium selenite (10 mL) was introduced drop by drop immediately after heating started. After ∼1 h, the solution became orange/reddish, as a sign of complete reduction and conversion to Se0 nanoparticles. During the preparation of all samples, reaction vessels were covered with aluminum foil to prevent photo-oxidation and crystallization of obtained SeNPs. After preparation, colloidal solutions of SeNPs were stocked at 4–8◦C. For FTIR and XRD measurements, samples were lyophilized in an alpha 1-4 LD freeze dryer (Martin Christ) at 0.36 mbar.\n",
      "**********************\n",
      "\n",
      "High purity polyvinyl alcohol (PVA) of molecular weight 125,000 and AR grade acrylamide (AM) obtained from S.D. Fine chemical, laboratory grade N,N0-dimethylene bis acrylamide (BisAM) from sigma, methyl methacrylate (MMA) from R. Johnson, acrylic acid from Ferak Berlin and selenium powder from Aldrich, were used as received. All the other chemicals used were of GR grade, procured from the local market. Sodium acrylate (NaA) was prepared by neutralizing acrylic acid monomer with sodium hydroxide, and the final pH of the solution was adjusted to 8. Aqueous solutions were prepared, using water obtained from Millipore-Q water purification system. Sodium selenosulphate was prepared by the method reported earlier, using reaction between aqueous Na2SO3 solution and Se powder\n",
      "Na2SO3(aq) + Se(s) ! Na2SeSO3(aq) (1)\n",
      "Briefly, a mixture of selenium powder (2 g) and solution of Na2SO3 (20 g) in 100 ml water was refluxed at 70 °C, for about 7 h. After completion of the refluxing process, the reaction mixture was filtered, and the solution obtained was kept in dark to prevent photo-oxidation. This sodium selenosulphate solution (0.25 M), containing unreacted Na2SO3, was used as a stock for Se precursor. 1% PVA stock solution was prepared by the addition of 1.0 g of PVA into 100 ml water, while stirring at 80 °C. Both these stock solutions were diluted with water, to the required concentrations, for different experiments.\n",
      "PVA-stabilized Se nanoparticles were synthesized by reaction of sodium selenosulphate (concentration 5x10^-4 to 1.5x10^-3 mol dm^-3) with different vinyl monomers in aqueous medium, in the presence of PVA as a stabilizer, in the concentration range 0.05–0.15%. The formation of selenium nanoparticles was studied for different time periods, depending on the nature and the concentration of the monomer used. Completion of the reaction, during the study of the reaction kinetics, was checked by spectrophotometric method as well as by the addition of dilute nitric acid in a small volume of the reaction mixture, after separating the selenium nanoparticles, using high-speed centrifuge (acid test). The presence of unreacted sodium selenosulphate was indicated by almost instantaneous development of red colour due to the acid-induced formation of selenium nanoparticles.\n",
      "UV–vis optical absorption spectra of the selenium nanoparticle sols were recorded, using a double beam spectrophotometer, model Spectroscan 2600 from Chemito. XRD patterns of the nanoparticles were recorded with a Phillips X-ray diffractometer, model PW 1710, using a Cu Kα source (λ = 0.15406 nm). DSC measurements were carried out, using a Mettler TA 3000 thermal analysis system. About 5–10 mg of the synthesized selenium nanoparticles and standard selenium powder were weighed into aluminum crucibles separately, and DSC measurements of both the samples were carried out in N2 atmosphere, at a heating rate of 10°C/min., from 50 to 250 °C. Selenium nanoparticles, separated from aqueous sols, using a high-speed centrifuge, at about 15,000 rpm, washed with water and dried at room temperature, were used for XRD and thermal analysis measurements. AFM analysis of the synthesized selenium nanoparticles was carried out, using a Solver P47 model from NT-MDT, Russia. SEM of the synthesized selenium nanoparticle was recorded, using a TESCAN VEGA MV 2300 T/A digital microscope. TEM characterization was carried out with a JEOL-2000 FX electron microscope, using the sample on a copper grid coated with a thin amorphous carbon film. Gas chromatography experiments were carried out on GC 8610 model from Chemito, using a Porapak-Q column of length of 6 ft and diameter of 1/8 in., at 230 °C, and nitrogen, as a carrier gas. NMR spectra of the samples were taken on Bruker machine.\n",
      "**********************\n",
      "\n",
      "In an attempt to synthesize polymer–selenium nanoparticle composites by radiation-induced method, it was observed that sodium selenosulphate reacts with vinyl monomers, precipitating elemental selenium, under ambient conditions. The simplicity and environmentally friendly nature of the reaction drove us to study it in detail, and to develop it as a new method for the production of selenium nanoparticles. A detailed study of the reaction was first carried out with acrylamide monomer, in the presence of PVA stabilizer, to produce selenium nanoparticles. Then, it was extended to other vinyl monomers, such as sodium acrylate, N,N0-dimethylene bis acrylamide, methyl methacrylate, α-methyl styrene, etc. PVA was found to be an efficient stabilizer for selenium, as its presence in the reaction mixture resulted in the formation of orange/red colored selenium nanoparticle sols, while in its absence, black elemental selenium powder precipitated out from the reaction mixture. Kinetics of the formation reaction and particle size of synthesized selenium nanoparticles, by the reaction of sodium selenosulphate with different monomers, have been investigated. The intensity of the selenium nanoparticle sols was found to be dependent on the concentration of sodium selenosulphate taken in the reaction mixture. A typical selenium nanoparticle sol formed by the reaction of 1.0*10^3 mol dm^-3 sodium selenosulphate with 1.6*10^2 mol dm^-3 acrylamide, in the presence of 0.05% PVA is shown in Fig. 1. Selenium nanoparticles are known to exhibit a regular absorption maximum, in the wavelength region above 350 nm, only when particle size is 150 nm, or more. Both the absorption maximum and the peak intensity are reported to change with the particle size. The absorption maximum generally shifts towards red, and the peak intensity decreases with an increase in the size of the nanoparticles. Fig. 2 shows the effect of the concentration of the selenium precursor as well as that of PVA on the UV–vis optical absorption spectra of selenium nanoparticle sols (recorded at 24 h of the reaction time), prepared by the reaction of sodium selenosulphate with acrylamide monomer. It is observed that with an increase in the sodium selenosulphate concentration from 0.5*10^3 to 1.5*10^3 mol dm^-3, the absorption maximum shifts to higher wavelengths, whereas the intensity of the absorption band first decreases, and then increases. The presence of an additional absorption band, with a maximum at 570 nm, in the sol formed at the highest studied concentration of sodium selenosulphate, may be due to the formation of two types of selenium nanoparticles. The observed increased intensity of this sol may be due to the contribution from these smaller selenium nanoparticles, which are expected to have a higher extinction coefficient. However, when the concentration of the PVA stabilizer is varied from 0.05% to 0.15%, at fixed concentrations of sodium selenosulphate and acrylamide monomer, an increase in the intensity of the absorption peak, along with a blue shift in its absorption maximum, is observed, suggesting a decrease in the particle size. The observed spectral shifts match well with that reported earlier, due to a decrease in the particle size. Thus, it is clear from Fig. 2 that, with an increase in the concentration of the selenium precursor, the size of the nanoparticles increases, whereas the increase in the concentration of PVA stabilizer results in smaller-sized selenium nanoparticles. Fig. 3a and b show the absorption spectra of the selenium sols, at different times, formed by the reaction of sodium selenosulphate (1.5*10^3 mol dm^-3) with BisAM and NaA monomer (9.0*10^2 mol dm^-3), respectively, in the presence of 0.05% PVA. There is a gradual red shift in the absorption maximum with the reaction time, in the case of both the monomers, indicating the growth of the nanoparticles. The absorption spectrum of the reaction mixture did not show any change in the studied wavelength region up to about initial 45 min (in the case of BisAM) and 60 min (in the case of NaA) of reaction time, both in air and nitrogen-saturated solutions. Probably, the changes might be taking place in the lower wavelength region. The nature of the absorption spectrum of the selenium sol was also found to depend on the functional group present in the monomer used. The absorption spectra of selenium sols formed by the reaction of sodium selenosulphate with the different studied monomers are shown in Fig. 4. These selenium sols have absorption maxima values of 330, 528, 558, 574, and 560 nm for acrylonitrile, N,N0-dimethylene bis acrylamide, sodium acrylate, acrylamide, and methyl methacrylate monomers, respectively, indicating an increase in the average size of the selenium nanoparticles in the same order. The lower value of the absorption maximum, in the case of methyl methacrylate, is due to only 40% completion of the reaction. X-ray diffraction technique was used to determine the crystal structure of selenium nanoparticles. The typical XRD patterns of the synthesized sample, after heat treatment at 130 8C for 30 min, and that of the commercially available selenium, are displayed. The XRD pattern of the synthesized selenium nanoparticles, without heat treatment, was much noisier, with broader peaks, indicating the nano-crystalline nature of the particles. All the diffraction pattern peaks could be indexed according to the trigonal phase, with lattice constants a = 4.366 Å and c = 4.956 Å, which match very well with the reported values. Further, the chemical composition of the synthesized selenium nanoparticles was confirmed by EDAX. The EDAX spectrum of the nanoparticles also indicates that the nanoparticles are of pure selenium only, and no other element is present therein. Differential scanning calorimetry (DSC) thermograms of the synthesized selenium nanoparticles and standard commercial selenium sample were recorded from 50 to 250 8C. DSC thermogram of the synthesized selenium nanoparticles showed an exothermic transition at 85 8C, along with an endothermic melting peak at 217 8C. The enthalpy of the transition was found to be 21.83 J/g. The repeat DSC thermogram of the same selenium sample, recorded after bringing it to the ambient temperature, did not show any exothermic peak at the mentioned temperature. This observation indicates that the selenium particles lose their nano-crystalline nature in the first thermal run itself, and the transition could be assigned to an increase in the crystallinity of the selenium nanoparticles. This observation is in corroboration with the XRD results obtained with the synthesized sample and that annealed at 130 8C. DSC thermogram of the standard selenium powder sample, depicting a melting peak 217 8C, without any such exothermic peak, is shown. Atomic force microscopy (AFM), scanning electron microscope (SEM), and transmission electron microscope (TEM) techniques were used to investigate the morphology and structure of the synthesized selenium nanoparticles. The typical 2D and 3D AFM images of the synthesized selenium nanoparticles are shown. The 2D image of the synthesized selenium nanoparticles shows that the average size of the selenium nanoparticles, or that of their aggregates, is about 100 nm, while the 3D image indicates the presence of individual spherical particles, with a maximum height of 8 nm in the z-direction. Scanning electron microscope and transmission electron microscope images of the synthesized selenium nanoparticles are shown, demonstrating the spherical shape of the individual nanoparticles and narrow size distribution. The conclusion drawn from AFM, SEM, and TEM studies are more or less in corroboration with each other. The present method is capable of producing spherical selenium nanoparticles, and the size of the particles (100–200 nm) and kinetics of the formation process depend on the nature and concentration of the monomer used. The rate of formation of selenium nanoparticles was found to be dependent on the nature as well as the concentration of the vinyl monomer used in the reaction. When the reaction was carried out at a higher concentration of the monomers, selenium was released for 30 min. The kinetics of the reaction was studied with acrylamide, sodium acrylate, BisAM, and methyl methacrylate monomers. The reaction with acrylic acid monomer was not studied, as the presence of –COOH group leads to acid-induced selenium formation, in addition to that due to the carbon–carbon double bond present in it. In a typical solution, containing 9.0*10^2 mol dm^-3 acrylamide, 1.5*10^3 mol dm^-3 sodium selenosulphate, and 0.05% PVA, appearance of the selenium nanoparticles was observed in 85 min, and the reaction was completed in 6 h. The presence of sodium selenosulphate was confirmed to be absent by the acid test. The rate of the reaction of sodium selenosulphate with different monomers, in decreasing order, was found to be AN > BisAM > NaA > AM > MMA, where AN refers to acrylonitrile, BisAM refers to N,N0-dimethylene bis acrylamide, NaA refers to sodium acrylate, AM refers to acrylamide, and MMA refers to methyl methacrylate. The observed reactivity can be correlated with the presence of different functional groups in the monomers. The formation of selenium nanoparticles was also observed with α-methyl styrene monomer, but the rate was much slower. This is because of limited solubility of α-methyl styrene in aqueous medium as well as due to the presence of an electron-donating methyl group on the carbon–carbon double bond. Thus, we can say that, ‘‘the higher is the electron-withdrawing capacity of the substituent at the carbon–carbon double bond of the vinyl monomers, the faster is the reaction, or vice versa’’.\n",
      "**********************\n",
      "\n",
      "Optimization of TP preparation Process: A 10 mg/mL tea protein solution was prepared by dissolving tea protein in 100 mL of distilled water. The effects of different extraction temperatures (40, 45, 50, 55, and 60°C), enzyme concentrations (1%, 2%, 3%, 4%, and 5% papain), solution pH values (5, 6, 7, 8, and 9), and extraction times (3, 6, 9, 12, and 15 h) were investigated to assess their influence on the yield of TP. Following the completion of the reaction, the solution’s pH was adjusted to neutral, and the mixture was subjected to heat treatment at 90°C for 15 min to inactivate the enzyme. The supernatant was then separated through centrifugation, and the tea protein was obtained by freeze-drying the collected supernatant.\n",
      "\n",
      "In order to optimize the preparation process of TP, a Box-Behnken design (BBD) was employed to investigate the effects of independent variables and their respective levels on the response of TP content. By analyzing the experimental data, the optimal parameters for the enzymatic hydrolysis process of tea protein were determined, and the response model was evaluated.\n",
      "\n",
      "Synthesis of SeNPs and optimization of TP-SeNPs preparation process: Initially, 200 mL of a 1 mM Na2SeO3 solution was gradually introduced to 200 mL of a 4 mmol/L Vc solution under continuous magnetic stirring, ensuring meticulous homogeneity. The pH of the resulting solution was adjusted to 6. Subsequently, the reaction was conducted at 55°C for 6 h. Upon completion, the reaction mixture was allowed to naturally equilibrate at ambient temperature. To ensure purification of the obtained SeNPs, the mixture was dialyzed with deionized water for 72 h, followed by concentration at 50°C and vacuum freeze-drying.\n",
      "\n",
      "TP-SeNPs preparation was conducted following the methodology of previous studies with some modifications. First, TP powder (10, 20, 30, 40, 50 mg) was dissolved in 10 mL of distilled water. The TP solution was then mixed with 40 mL of a 1 mM Na2SeO3 solution and 40 mL of a 4 mM ascorbic acid solution. The pH of the solution was adjusted to 2, 3, 4, 5, and 6, and the reaction was conducted at a fixed temperature of 25, 35, 45, 55, and 65°C for the reaction time of 3, 6, 9, 12, and 15 h. The influence of pH, temperature, time, and peptide solution concentration on the size of TP-SeNPs was investigated. TP-SeNPs were obtained by dialyzing with deionized water for 72 h, concentrating at 50°C, and then freeze-drying.\n",
      "\n",
      "The BBD was employed to analyze the effect of the independent variables and their response levels on the particle size of TP-SeNPs (y). Based on the experimental data obtained from the response surface analysis, the optimal preparation parameters for TP-SeNPs were determined, and the response model was evaluated.\n",
      "**********************\n",
      "\n",
      "In comparison to microbial agents, the utilization of plant extracts in green synthesis has gained popularity due to its eco-friendliness, use of biodegradable reducing agents, and cost reduction. In this study, tea protein was obtained from tea leaves using an alkaline extraction-acid precipitation method. TP extract with a content of 28.12% was obtained by hydrolyzing tea protein at pH 6, temperature 50°C, for 3 h, with a concentration of 4% papain. TP-SeNPs with a minimum particle size of 98 nm were biologically synthesized by adding 3% TP at pH 4 and a reaction temperature of 55°C for 6 h. TP-SeNPs exhibited absorption peaks of SeNPs at 285 nm in the UV spectrum, and the presence of selenium was confirmed by the peak at 1.37 keV in EDS, along with carbon, oxygen, and nitrogen, originating from tea peptides bound to the surface of selenium nanoparticles. Electron microscopy showed a thin layer coating on the surface of TP-SeNPs, indicating the stabilizing effect of TP, ensuring the stability and preventing aggregation of the nanoparticles. Infrared spectroscopy revealed changes in C=O, NH, and C-N, suggesting that TP’s stabilization of SeNPs may involve physical adsorption, covalent interactions, and other unknown interactions, preventing the aggregation or degradation of the complex. XRD analysis demonstrated the crystalline structure of TP-SeNPs, indicating a transition from amorphous to crystalline structure, which may enhance the material properties and improve the antioxidant and antibacterial abilities of TP-SeNPs. Over a period of 7 days at 25°C and 4°C, the absorbance ratio of the peptide-nano selenium colloid solution remained stable. TP-SeNPs exhibited higher antioxidant activity than SeNPs at high concentrations, and 10% TP-SeNPs showed good antibacterial activity. This study presents a novel and innovative approach to synthesizing SeNPs using plant-derived polypeptides, with potential applications in various fields, including the food and pharmaceutical industries. Further research is needed to evaluate the biocompatibility and safety of TP-SeNPs, including cytotoxicity and biocompatibility tests. Additionally, determining the optimal size range for the antioxidant and antibacterial properties of TP-SeNPs requires further investigation.\n",
      "**********************\n",
      "\n",
      "Chemicals and bacterial strains. Lysozyme from chicken egg white was purchased from Bio Basic. Sodium selenite, Sodium dihydrogen phosphate dehydrate, Disodium monohydrogen phosphate were procured from Merck. Ascorbic acid and Polysorbate 20 were purchased from Sigma. Muller-Hinton broth/agar were purchased from HiMedia. Escherichia coli (ATCC25922) and Staphylococcus aureus (ATCC25923), were obtained from the department of Bacteriology of Tarbiat Modares University, Iran. Ultrapure deionized water (DI) was used during the whole experiments. Glassware was thoroughly cleaned with dilute sulfo chromic acid/detergent solution and rinsed with DI. \n",
      "\n",
      "Synthesis of selenium nanoparticles. SeNPs were prepared via a reduction of sodium selenite by ascorbic acid and stabilized by polysorbate 20. Briefly, 30 mg of Na2SeO3.5H2O was added to 90 mL of Milli-Q water. Ascorbic acid (10 mL, 56.7 mM) was added dropwise to sodium selenite solution with vigorous stirring.10 µL of polysorbate were added after each 2 ml of ascorbic acid. Selenium nanoparticles were formed after the addition of ascorbic acid. This can be visualized by a color change of the reactant solution from clear white to clear red. All solutions were made in a sterile environment by using a sterile cabinet and double distilled water. Selenium nanoparticles were then collected by centrifuging the solution at 12000 rpm. The pellet was resuspended in sterile double distilled water before use in bacteria experiments. Selenium contents of nanoparticles were determined using inductively coupled plasma optical emission spectroscopy (ICP-OES, model Vista-Pro from Varian). \n",
      "\n",
      "SEM and UV–Vis characterization. Size, morphology and distribution of SeNPs were studied by scanning electron microscopy (SEM). Dilute sample was prepared and well dispersed by sonication. Samples were then dried and labelled with a gold monolayer (sputter coating), imaged by Qunta 200 electron microscope. SeNPs were also characterized by UV–Vis absorption spectrophotometer (PerkinElmer, Lambda 25). The spectra were recorded within 200–500 nm wavelength range. \n",
      "\n",
      "Nanoparticle-protein interaction. SeNPs were mixed with different concentrations of protein in sodium phosphate buffer (20 mM, pH 6.2). Samples were then incubated at ambient temperature for 1 h prior to characterization. For analysis of protein conformation, a fixed concentration of lysozyme (200 μg.mL−1 in phosphate buffer 20 mM, pH 6.2) was mixed with various concentrations of SeNPs at ambient temperature. Longer incubation time did not affect the interaction. All experiments were performed with the as-prepared nanohybrid system. \n",
      "\n",
      "Dynamic light scattering. Effects of protein concentration on the average hydrodynamic size of nanoparticles were monitored using dynamic light scattering. The solvent should be of high purity (MiliQ water), without large molar mass impurities (e.g. dust) to avoid “shadowing” of the signal for the scattering particles. Surface charge of the nanoparticles was determined using Malvern Zetasizer Nano-ZS instrument. \n",
      "\n",
      "Circular dichroism spectropolarimetry. Circular dichroism (CD) measurements were carried out on a JASCO spectropolarimeter (J-715) to monitor possible changes that SeNPs might induce in lysozyme’s conformation. Far UV-CD region was scanned in the wavelength range of 200–250 nm. CD is reported in terms of mean residue ellipticity [θ] in deg.cm2.dmol−1, as depicted in the following equation: \n",
      "θ θ=[ ] 100 [ ] Mw/ncl (1) Where, θ is molar ellipticity, Mw is the lysozyme molecular weight, n is the number of amino acid residues, c is the lysozyme concentration in mg.mL−1, and l is the light path length in centimeters. Data was smoothed and analysed by Jasco software, after subtracting the buffer and SeNPs contribution from the original protein and protein–SeNPs complex, respectively. \n",
      "\n",
      "Antibacterial activity test of nanohybrid system. SeNPs, Lysozyme and nanohybrid system were tested for minimum inhibitory concentration (MIC) leading to the inhibition of bacterial growth by standard microdilution method (provided by the CLSI, 2018). MIC is the lowest concentration of an antimicrobial agent that prevents visible growth of a microorganism in an agar or broth dilution susceptibility test. A 96-well microtiter plate dilution was applied to determine the MIC. Briefly, 50 µL of twice the desired final concentration of antimicrobial agent was added to each well containing 50 µL Muller-Hinton broth. The inoculums were prepared by using direct colony suspension method by making a direct saline suspension of isolated colonies selected from a 24 h agar plate and then adjust the suspension to achieve a turbidity equivalent to a 0.5 McFarland standard. A total of 10 µL of activated culture of each tested strain (about 5 × 106 CFU/mL) was added. After 20 h of incubation at 37 °C, bacterial growth inhibition was determined by monitoring the optical density at 630 nm by ELX 808 microplate reader (Biotek Instruments, Winooski VT, USA). Absorbance at 630 nm showed the bacterial growth. The MIC value was recorded as the lowest concentration of the sample inhibiting the visible growth of microorganisms. A blank control without the sample was used for the control \n",
      "\n",
      "Statistical analysis. All quantitative tests were carried out over three times and then mean values with standard deviations were calculated. Statistical analyses were performed using SPSS 16 software. Data were collected, and the significant differences were assessed with the probability associated with one-way ANOVA tests. One-way ANOVA followed by Tukey’s multiple-comparison post hoc tests were exploited for the comparison of three or more groups. The significance level (p) was considered at 0.05.\n",
      "**********************\n",
      "\n",
      "Syntheses of SeNPs were carried out in parallel by the reduction of sodium selenite using AA or Cys. The antioxidant properties of SeNPs can be controlled by selecting appropriate concentrations of the reactants. An excess of Cys to Se(IV) higher than 1:4 caused SeNPs aggregation, affecting their antioxidant capacity. The synthesis of SeNPs resulted in gradual color changes in the product solutions, confirming SeNP formation. The reaction kinetics differed between Cys and AA, with Cys showing a faster reaction rate. Monitoring the reaction progress using chromatography and mass spectrometry was conducted to determine the optimal conditions for synthesis. The UV-Vis absorption spectra showed changes during synthesis, indicating the transformation process using Cys was more intense. \n",
      "\n",
      "The size of SeNPs was determined based on UV-Vis spectra, with different diameters corresponding to specific absorption maxima. The stability of SeNPs and their dimensions were not significantly affected by the reaction time, indicating no aggregation. The antioxidant activity of SeNPs was evaluated, showing higher activity with smaller, more homogeneous particles. The cleaning procedure post-synthesis affected the antioxidant capacity, with centrifugation and heating influencing the size and homogeneity of SeNPs, thereby impacting their scavenging ability towards free radicals. SEM and TEM images confirmed the morphology of the synthesized SeNPs, with a correlation between particle size, homogeneity, and antioxidant activity observed. The results suggest that both size and homogeneity are crucial factors in determining the antioxidant capacity of SeNPs.\n",
      "**********************\n",
      "\n",
      "SeNPs were synthesized via reduction of Na2SeO3 with ascorbic acid. The procedure was performed with and without polyvinyl alcohol (PVA) as a stabilizing agent. PVA is often used for this purpose. Briefly, 20 mL of sodium selenite solution (5 × 10−3 mol L−1) was placed in a beaker with a magnetic stirrer. Then, 10 mL of AA solution (40 × 10−3 mol L−1) was added dropwise. After 60 min of stirring, 70 mL of Milli-Q water was added. In the second procedure of synthesis, PVA was added just after the first addition of AA in such amount that its final concentration was 1 mg L−1.\n",
      "SeNPs were also synthesized using Cys as the reductant. In detail, to 0.1 mol L−1 solution of Na2SeO3, Cys solution (50 × 10−3 mol L−1) was added dropwise with vigorous stirring (stirring speed of 1000 rpm) for 60 min. In parallel, SeNPs were obtained using PVA as a stabilizing agent. In each method of synthesis, the final concentration of selenium was equal to 1 × 10−3 mol L−1, and the reductants were equal to 4 × 10−3 mol L−1. After the synthesis, SeNPs were purified from the surrounding liquid containing dissolved substrate residuals using different procedures: (i) centrifugation for 10 min with two units of rotational speed 8000 rpm (3122 rcf) and 12,000 rpm (17,257 rcf), decantation and rinsing three times with 10 mL of deionized water; (ii) additional heating with magnetic stirring at 70 °C for 1 h, then rinsing three times with 10 mL of deionized water. Heating the reaction mixture is sometimes recommended in order to obtain more homogeneous NPs. The morphology and properties of SeNPs synthesized using these clean-up procedures were compared with those of SeNPs obtained directly by mixing reagents.\n",
      "**********************\n",
      "\n",
      "SeNPs were synthesized by simple chemical reduction, using sodium selenite as a source of selenium ions, ascorbic acid as a reducing agent and BSA as a stabilizer. Droplets of 20mM solution of sodium selenite (12.5 ml) and 8.6% solution of BSA (w/v, 5ml) were simultaneously added to 0.125M solution of ascorbic acid (10ml). The reaction vessel with ascorbic acid (also where the reduction takes place) was covered with aluminum foil to prevent interaction with light. The obtained brick red colloidal solution of SeNPs was homogenized for 30min on a magnetic stirrer (1000 rpm) and then filtered through a 0.24 μm syringe filter (Millipore). The final solution was stored in a refrigerator. The amount of SeNPs in the colloidal solution was determined by ICP-OES. For the purpose of characterization by FTIR, XRD and antibacterial testing, the obtained colloidal solution of SeNPs was lyophilized.\n",
      "**********************\n",
      "\n",
      "For experiments in an aqueous medium, 85mg of PCL/SeNPs powder was suspended in a mixture of 20mM PBS (8ml) and P. aeruginosa CFE. The experiment was carried out for three weeks at 37 °C. Cell-free extracts (2ml; 1.8 to 2mg of total protein/ml) were added in regular periods, three times throughout the duration of the experiment. After 24 h, and at the beginning of the second and third week, before the addition of fresh cell-free extracts, aliquots of 1ml were taken from the reaction mixture, centrifuged (5min, 13,000 rpm, Eppendorf Centrifuge 5417C, Hamburg, Germany) and pellets and supernatants stored at −20 °C for further analysis.\n",
      "**********************\n",
      "\n"
     ]
    }
   ],
   "source": [
    "# Check Labeled praghraphs\n",
    "\n",
    "for i in df_paragraphs[df_paragraphs['label_raw'] == 'YES']\\\n",
    "['section_text_cleaned'].map(lambda x: x).tolist():\n",
    "# ['sections'].map(lambda x: x.get('text')).tolist():\n",
    "    print(i)\n",
    "    print('**********************\\n')"
   ]
  }
 ],
 "metadata": {
  "kernelspec": {
   "display_name": "p310-openAI",
   "language": "python",
   "name": "p310-openai"
  },
  "language_info": {
   "codemirror_mode": {
    "name": "ipython",
    "version": 3
   },
   "file_extension": ".py",
   "mimetype": "text/x-python",
   "name": "python",
   "nbconvert_exporter": "python",
   "pygments_lexer": "ipython3",
   "version": "3.10.12"
  }
 },
 "nbformat": 4,
 "nbformat_minor": 5
}
