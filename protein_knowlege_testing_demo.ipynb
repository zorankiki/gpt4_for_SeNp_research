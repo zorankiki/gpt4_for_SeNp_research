{
 "cells": [
  {
   "cell_type": "code",
   "execution_count": 1,
   "id": "3916fcf7-9a28-4555-b682-42e3737e74e6",
   "metadata": {},
   "outputs": [],
   "source": [
    "import requests\n",
    "import pandas as pd\n",
    "from os import environ\n",
    "\n",
    "import openai\n",
    "from openai.error import RateLimitError, InvalidRequestError\n",
    "import backoff\n",
    "\n",
    "import ast"
   ]
  },
  {
   "cell_type": "code",
   "execution_count": 2,
   "id": "1a23d8aa-a3ba-4687-a23f-f7633b82b797",
   "metadata": {},
   "outputs": [],
   "source": [
    "openai.organization = environ.get('OPEN_AI_ORG')\n",
    "openai.api_key = environ.get('OPEN_AI_API_KEY')"
   ]
  },
  {
   "cell_type": "code",
   "execution_count": 3,
   "id": "54f2886e-4b41-4d91-a906-7ab15e0acd95",
   "metadata": {},
   "outputs": [],
   "source": [
    "df_stabilizers = pd.read_pickle('./protein_stabilizers.pkl')"
   ]
  },
  {
   "cell_type": "code",
   "execution_count": 4,
   "id": "f11076a3-f29d-45a1-a015-62542618c999",
   "metadata": {},
   "outputs": [],
   "source": [
    "@backoff.on_exception(backoff.expo, RateLimitError)\n",
    "def describe_protein(molecule, model=\"gpt-4-turbo-preview\"):\n",
    "    messages = []\n",
    "    \n",
    "    messages.append({\"role\": \"system\", \"content\":'''# who you are: you are research scientist, expert in biochemistry.\n",
    "    # your task: for given name or abbreviation you will respond with type of given chemical compound.\n",
    "    # you will take input as compound or substance name of abbreviation.\n",
    "    # you will respond: {\"name\": <YUPAC name>, \"type of substance\": <type of substance>}.\n",
    "    # examples: 1. input: glucose; output: {\"name\": \"glucose\", \"type of substance\": \"monosaccharide\"}'''})\n",
    "\n",
    "    messages.append({\"role\": \"user\", \"content\": molecule})\n",
    "    \n",
    "    response = openai.ChatCompletion.create(model=model, \n",
    "                                            messages=messages, max_tokens=4095, temperature=1)\n",
    "\n",
    "    # Print the response and add it to the messages list\n",
    "    chat_message = response['choices'][0]['message']['content']\n",
    "    print('*', end = \"\")\n",
    "    # print(f\"Bot: {chat_message}\")\n",
    "    # messages.append({\"role\": \"assistant\", \"content\": chat_message})\n",
    "    return(chat_message)"
   ]
  },
  {
   "cell_type": "code",
   "execution_count": 5,
   "id": "5da79483-beae-47ea-998a-dadbca2c875c",
   "metadata": {},
   "outputs": [
    {
     "name": "stdout",
     "output_type": "stream",
     "text": [
      "***********************************"
     ]
    }
   ],
   "source": [
    "df_stabilizers['gpt4_desc'] = df_stabilizers['molecule']\\\n",
    ".map(lambda x: describe_protein(x))"
   ]
  },
  {
   "cell_type": "code",
   "execution_count": 6,
   "id": "ff5e8bc6-39a4-4a1d-b932-f4d996d877ae",
   "metadata": {},
   "outputs": [],
   "source": [
    "df_stabilizers['gpt4_name'] = \\\n",
    "df_stabilizers['gpt4_desc'].map(lambda x: ast.literal_eval(x).get('name'))\n",
    "\n",
    "df_stabilizers['gpt4_type_of_substance'] = \\\n",
    "df_stabilizers['gpt4_desc'].map(lambda x: ast.literal_eval(x).get('type of substance'))"
   ]
  },
  {
   "cell_type": "code",
   "execution_count": 7,
   "id": "deb48ca3-954f-4493-9c70-ca9773a4454f",
   "metadata": {},
   "outputs": [],
   "source": [
    "df_stabilizers.loc[df_stabilizers['molecule']=='human serum albumin', 'molecule'] = 'albumin'"
   ]
  },
  {
   "cell_type": "code",
   "execution_count": 8,
   "id": "626bb22c-9f24-46ad-ae6e-ec97ecef2c99",
   "metadata": {},
   "outputs": [],
   "source": [
    "df_stabilizers['responses_human_proteins'] = df_stabilizers['molecule']\\\n",
    ".map(lambda x: requests.get('https://rest.uniprot.org/uniprotkb/search?query=reviewed:true%20AND%20protein_name:(' + x.lower().replace(' ', '+') + ')%20AND%20organism_id:9606'))"
   ]
  },
  {
   "cell_type": "code",
   "execution_count": 9,
   "id": "937fa462-9149-40a5-b7be-d48b4f9a64de",
   "metadata": {},
   "outputs": [],
   "source": [
    "df_stabilizers_human_prots = \\\n",
    "df_stabilizers[df_stabilizers['responses_human_proteins']\\\n",
    ".map(lambda x: x.json().get('results') != [])].copy()"
   ]
  },
  {
   "cell_type": "code",
   "execution_count": 10,
   "id": "2cfeced7-7ae3-4950-a1c4-2c27218ffdb6",
   "metadata": {},
   "outputs": [],
   "source": [
    "df_stabilizers_human_prots['results'] = \\\n",
    "df_stabilizers_human_prots['responses_human_proteins']\\\n",
    ".map(lambda x: x.json().get('results'))"
   ]
  },
  {
   "cell_type": "code",
   "execution_count": 11,
   "id": "9f88bb9e-86c6-4e3a-bada-7198350492a8",
   "metadata": {},
   "outputs": [],
   "source": [
    "df_stabilizers_human_prots_exploded = df_stabilizers_human_prots.explode('results')"
   ]
  },
  {
   "cell_type": "code",
   "execution_count": 12,
   "id": "6c49c974-0347-4d0e-9e78-0cc963fb8f8e",
   "metadata": {},
   "outputs": [
    {
     "data": {
      "text/plain": [
       "dict_keys(['entryType', 'primaryAccession', 'secondaryAccessions', 'uniProtkbId', 'entryAudit', 'annotationScore', 'organism', 'proteinExistence', 'proteinDescription', 'genes', 'comments', 'features', 'keywords', 'references', 'uniProtKBCrossReferences', 'sequence', 'extraAttributes'])"
      ]
     },
     "execution_count": 12,
     "metadata": {},
     "output_type": "execute_result"
    }
   ],
   "source": [
    "df_stabilizers_human_prots_exploded['results'].map(lambda x: x.keys()).iloc[0]"
   ]
  },
  {
   "cell_type": "code",
   "execution_count": 13,
   "id": "f62f0015-93a0-4f95-802a-b72acfb28a30",
   "metadata": {},
   "outputs": [],
   "source": [
    "df_stabilizers_human_prots_exploded['uniprot_name'] = \\\n",
    "df_stabilizers_human_prots_exploded['results'].map(lambda x: x.get('proteinDescription')\\\n",
    "                                                   .get('recommendedName')\\\n",
    "                                                   .get('fullName').get('value'))"
   ]
  },
  {
   "cell_type": "code",
   "execution_count": 14,
   "id": "bf6627b3-f0f8-4fcd-8671-c2f1fdc701a8",
   "metadata": {},
   "outputs": [],
   "source": [
    "df_stabilizers_human_prots_exploded['uniprot_id'] = \\\n",
    "df_stabilizers_human_prots_exploded['results'].map(lambda x: x.get('primaryAccession'))"
   ]
  },
  {
   "cell_type": "code",
   "execution_count": 15,
   "id": "77023319-b164-4869-aee6-2e5aee4d4963",
   "metadata": {},
   "outputs": [
    {
     "data": {
      "text/plain": [
       "array(['lysozyme', 'transferrin', 'albumin', 'glutathione peroxidase',\n",
       "       'insulin', 'keratin', 'sparc', 'psp', 'selenocysteine',\n",
       "       'reductase protein', 'thioredoxin reductase'], dtype=object)"
      ]
     },
     "execution_count": 15,
     "metadata": {},
     "output_type": "execute_result"
    }
   ],
   "source": [
    "df_stabilizers_human_prots_exploded['molecule'].unique()"
   ]
  },
  {
   "cell_type": "code",
   "execution_count": 22,
   "id": "e758a28d-25f2-4708-a3af-6b4f4e9a616a",
   "metadata": {},
   "outputs": [],
   "source": [
    "choosen_entries = ['Lysozyme C', 'Albumin', 'Serotransferrin', 'Glutathione peroxidase 1', \n",
    "                   'Insulin', 'Keratin, type II cytoskeletal 2 epidermal', 'SPARC', \n",
    "                   'Flavin reductase (NADPH)', 'Thioredoxin reductase 1, cytoplasmic']"
   ]
  },
  {
   "cell_type": "code",
   "execution_count": 34,
   "id": "4d3d8e4a-a02d-4f64-abc4-aed4c2f5f313",
   "metadata": {},
   "outputs": [],
   "source": [
    "df_stabilizers_selected = \\\n",
    "df_stabilizers_human_prots_exploded[\\\n",
    "df_stabilizers_human_prots_exploded['uniprot_name'].isin(choosen_entries)].copy()"
   ]
  },
  {
   "cell_type": "code",
   "execution_count": 35,
   "id": "723faa2d-e5fe-484c-becc-121b0968a2c3",
   "metadata": {},
   "outputs": [],
   "source": [
    "df_stabilizers_selected['seq'] = \\\n",
    "df_stabilizers_selected['results'].map(lambda x: x.get('sequence').get('value'))"
   ]
  },
  {
   "cell_type": "code",
   "execution_count": 43,
   "id": "c8504c4a-cfaa-44ae-88c8-a1fb7cabf831",
   "metadata": {},
   "outputs": [],
   "source": [
    "df_stabilizers_selected['function'] = \\\n",
    "df_stabilizers_selected['results'].map(lambda x: x.get('comments'))\\\n",
    ".map(lambda x: [c.get('texts')[0].get('value') for c in x if c.get('commentType')=='FUNCTION'][0])"
   ]
  },
  {
   "cell_type": "code",
   "execution_count": 45,
   "id": "2676f918-f77d-4ebe-a221-57621437b51c",
   "metadata": {},
   "outputs": [],
   "source": [
    "df_stabilizers_selected['comment_misc'] = \\\n",
    "df_stabilizers_selected['results'].map(lambda x: x.get('comments'))\\\n",
    ".map(lambda x: [c.get('texts')[0].get('value') for c in x if c.get('commentType')=='MISCELLANEOUS'])"
   ]
  },
  {
   "cell_type": "code",
   "execution_count": 48,
   "id": "42ff718f-536d-47de-8086-c10099972550",
   "metadata": {},
   "outputs": [],
   "source": [
    "df_stabilizers_selected['simmilarity'] = \\\n",
    "df_stabilizers_selected['results'].map(lambda x: x.get('comments'))\\\n",
    ".map(lambda x: [c.get('texts')[0].get('value') for c in x if c.get('commentType')=='SIMILARITY'])"
   ]
  },
  {
   "cell_type": "code",
   "execution_count": 50,
   "id": "ad2cb119-1fd7-49e6-b928-276dba39006c",
   "metadata": {},
   "outputs": [],
   "source": [
    "df_stabilizers_selected['ctn_by_feature_type'] = \\\n",
    "df_stabilizers_selected['results']\\\n",
    ".map(lambda x: x.get('extraAttributes').get('countByFeatureType'))"
   ]
  },
  {
   "cell_type": "code",
   "execution_count": 55,
   "id": "e51459d3-4269-408a-b209-8d1512a4bf65",
   "metadata": {},
   "outputs": [],
   "source": [
    "df_stabilizers_selected['interactions'] = \\\n",
    "df_stabilizers_selected['results'].map(lambda x: x.get('comments'))\\\n",
    ".map(lambda x: [c.get('interactions') for c in x if c.get('commentType')=='INTERACTION'])"
   ]
  },
  {
   "cell_type": "code",
   "execution_count": 65,
   "id": "83e4402f-7ac8-4d73-8ef1-3ee4d94aad6f",
   "metadata": {},
   "outputs": [],
   "source": [
    "df_stabilizers_selected['resource_url'] = \\\n",
    "df_stabilizers_selected['results'].map(lambda x: x.get('comments'))\\\n",
    ".map(lambda x: [c.get('resourceUrl') for c in x if c.get('commentType')=='WEB RESOURCE'][0])"
   ]
  },
  {
   "cell_type": "code",
   "execution_count": 60,
   "id": "fd0c9e21-b8ba-4520-9dfd-492d52c87451",
   "metadata": {},
   "outputs": [],
   "source": [
    "# import pprint\n",
    "pprint.pprint(df_stabilizers_selected['results'].iloc[0])"
   ]
  },
  {
   "cell_type": "code",
   "execution_count": 70,
   "id": "8436ea4d-76e8-4a18-a3fc-ab6a1d281cbc",
   "metadata": {},
   "outputs": [
    {
     "data": {
      "text/html": [
       "<div>\n",
       "<style scoped>\n",
       "    .dataframe tbody tr th:only-of-type {\n",
       "        vertical-align: middle;\n",
       "    }\n",
       "\n",
       "    .dataframe tbody tr th {\n",
       "        vertical-align: top;\n",
       "    }\n",
       "\n",
       "    .dataframe thead th {\n",
       "        text-align: right;\n",
       "    }\n",
       "</style>\n",
       "<table border=\"1\" class=\"dataframe\">\n",
       "  <thead>\n",
       "    <tr style=\"text-align: right;\">\n",
       "      <th></th>\n",
       "      <th>uniprot_name</th>\n",
       "      <th>uniprot_id</th>\n",
       "      <th>seq</th>\n",
       "      <th>function</th>\n",
       "      <th>simmilarity</th>\n",
       "      <th>ctn_by_feature_type</th>\n",
       "      <th>interactions</th>\n",
       "      <th>resource_url</th>\n",
       "    </tr>\n",
       "  </thead>\n",
       "  <tbody>\n",
       "    <tr>\n",
       "      <th>1</th>\n",
       "      <td>Lysozyme C</td>\n",
       "      <td>P61626</td>\n",
       "      <td>MKALIVLGLVLLSVTVQGKVFERCELARTLKRLGMDGYRGISLANW...</td>\n",
       "      <td>Lysozymes have primarily a bacteriolytic funct...</td>\n",
       "      <td>Belongs to the glycosyl hydrolase 22 family</td>\n",
       "      <td>{'Signal': 1, 'Chain': 1, 'Domain': 1, 'Active...</td>\n",
       "      <td>[[{'interactantOne': {'uniProtKBAccession': 'P...</td>\n",
       "      <td>https://en.wikipedia.org/wiki/Lysozyme</td>\n",
       "    </tr>\n",
       "    <tr>\n",
       "      <th>2</th>\n",
       "      <td>Serotransferrin</td>\n",
       "      <td>P02787</td>\n",
       "      <td>MRLAVGALLVCAVLGLCLAVPDKTVRWCAVSEHEATKCQSFRDHMK...</td>\n",
       "      <td>Transferrins are iron binding transport protei...</td>\n",
       "      <td>Belongs to the transferrin family</td>\n",
       "      <td>{'Signal': 1, 'Chain': 1, 'Domain': 2, 'Bindin...</td>\n",
       "      <td>[[{'interactantOne': {'uniProtKBAccession': 'P...</td>\n",
       "      <td>https://en.wikipedia.org/wiki/Transferrin</td>\n",
       "    </tr>\n",
       "    <tr>\n",
       "      <th>4</th>\n",
       "      <td>Albumin</td>\n",
       "      <td>P02768</td>\n",
       "      <td>MKWVTFISLLFLFSSAYSRGVFRRDAHKSEVAHRFKDLGEENFKAL...</td>\n",
       "      <td>Binds water, Ca(2+), Na(+), K(+), fatty acids,...</td>\n",
       "      <td>Belongs to the ALB/AFP/VDB family</td>\n",
       "      <td>{'Signal': 1, 'Propeptide': 1, 'Chain': 1, 'Do...</td>\n",
       "      <td>[[{'interactantOne': {'uniProtKBAccession': 'P...</td>\n",
       "      <td>https://albumin.org</td>\n",
       "    </tr>\n",
       "    <tr>\n",
       "      <th>7</th>\n",
       "      <td>Glutathione peroxidase 1</td>\n",
       "      <td>P07203</td>\n",
       "      <td>MCAARLAAAAAAAQSVYAFSARPLAGGEPVSLGSLRGKVLLIENVA...</td>\n",
       "      <td>Catalyzes the reduction of hydroperoxides in a...</td>\n",
       "      <td>Belongs to the glutathione peroxidase family</td>\n",
       "      <td>{'Chain': 1, 'Active site': 1, 'Site': 1, 'Non...</td>\n",
       "      <td>[[{'interactantOne': {'uniProtKBAccession': 'P...</td>\n",
       "      <td>http://egp.gs.washington.edu/data/gpx1/</td>\n",
       "    </tr>\n",
       "    <tr>\n",
       "      <th>8</th>\n",
       "      <td>Insulin</td>\n",
       "      <td>P01308</td>\n",
       "      <td>MALWMRLLPLLALLALWGPDPAAAFVNQHLCGSHLVEALYLVCGER...</td>\n",
       "      <td>Insulin decreases blood glucose concentration....</td>\n",
       "      <td>Belongs to the insulin family</td>\n",
       "      <td>{'Signal': 1, 'Peptide': 2, 'Propeptide': 1, '...</td>\n",
       "      <td>[[{'interactantOne': {'uniProtKBAccession': 'P...</td>\n",
       "      <td>https://www.lillydiabetes.com/assets/pdf/pp-ld...</td>\n",
       "    </tr>\n",
       "    <tr>\n",
       "      <th>11</th>\n",
       "      <td>Keratin, type II cytoskeletal 2 epidermal</td>\n",
       "      <td>P35908</td>\n",
       "      <td>MSCQISCKSRGRGGGGGGFRGFSSGSAVVSGGSRRSTSSFSCLSRH...</td>\n",
       "      <td>Probably contributes to terminal cornification...</td>\n",
       "      <td>Belongs to the intermediate filament family</td>\n",
       "      <td>{'Chain': 1, 'Domain': 1, 'Region': 9, 'Compos...</td>\n",
       "      <td>[[{'interactantOne': {'uniProtKBAccession': 'P...</td>\n",
       "      <td>https://en.wikipedia.org/wiki/Keratin_2A</td>\n",
       "    </tr>\n",
       "    <tr>\n",
       "      <th>14</th>\n",
       "      <td>SPARC</td>\n",
       "      <td>P09486</td>\n",
       "      <td>MRAWIFFLLCLAGRALAAPQQEALPDETEVVEETVAEVTEVSVGAN...</td>\n",
       "      <td>Appears to regulate cell growth through intera...</td>\n",
       "      <td>Belongs to the SPARC family</td>\n",
       "      <td>{'Signal': 1, 'Chain': 1, 'Domain': 3, 'Bindin...</td>\n",
       "      <td>[[{'interactantOne': {'uniProtKBAccession': 'P...</td>\n",
       "      <td>https://en.wikipedia.org/wiki/Osteonectin</td>\n",
       "    </tr>\n",
       "    <tr>\n",
       "      <th>23</th>\n",
       "      <td>Flavin reductase (NADPH)</td>\n",
       "      <td>P30043</td>\n",
       "      <td>MAVKKIAIFGATGQTGLTTLAQAVQAGYEVTVLVRDSSRLPSEGPR...</td>\n",
       "      <td>Broad specificity oxidoreductase that catalyze...</td>\n",
       "      <td>NaN</td>\n",
       "      <td>{'Initiator methionine': 1, 'Chain': 1, 'Bindi...</td>\n",
       "      <td>[[{'interactantOne': {'uniProtKBAccession': 'P...</td>\n",
       "      <td>http://egp.gs.washington.edu/data/blvrb/</td>\n",
       "    </tr>\n",
       "    <tr>\n",
       "      <th>25</th>\n",
       "      <td>Thioredoxin reductase 1, cytoplasmic</td>\n",
       "      <td>Q16881</td>\n",
       "      <td>MGCAEGKAVAAAAPTELQTKGKNGDGRRRSAKDHHPGKTLPENPAG...</td>\n",
       "      <td>Reduces disulfideprotein thioredoxin (Trx) to ...</td>\n",
       "      <td>Belongs to the class-I pyridine nucleotide-dis...</td>\n",
       "      <td>{'Chain': 1, 'Domain': 1, 'Region': 2, 'Compos...</td>\n",
       "      <td>[[{'interactantOne': {'uniProtKBAccession': 'Q...</td>\n",
       "      <td>http://egp.gs.washington.edu/data/txnrd1/</td>\n",
       "    </tr>\n",
       "  </tbody>\n",
       "</table>\n",
       "</div>"
      ],
      "text/plain": [
       "                                 uniprot_name uniprot_id   \n",
       "1                                  Lysozyme C     P61626  \\\n",
       "2                             Serotransferrin     P02787   \n",
       "4                                     Albumin     P02768   \n",
       "7                    Glutathione peroxidase 1     P07203   \n",
       "8                                     Insulin     P01308   \n",
       "11  Keratin, type II cytoskeletal 2 epidermal     P35908   \n",
       "14                                      SPARC     P09486   \n",
       "23                   Flavin reductase (NADPH)     P30043   \n",
       "25       Thioredoxin reductase 1, cytoplasmic     Q16881   \n",
       "\n",
       "                                                  seq   \n",
       "1   MKALIVLGLVLLSVTVQGKVFERCELARTLKRLGMDGYRGISLANW...  \\\n",
       "2   MRLAVGALLVCAVLGLCLAVPDKTVRWCAVSEHEATKCQSFRDHMK...   \n",
       "4   MKWVTFISLLFLFSSAYSRGVFRRDAHKSEVAHRFKDLGEENFKAL...   \n",
       "7   MCAARLAAAAAAAQSVYAFSARPLAGGEPVSLGSLRGKVLLIENVA...   \n",
       "8   MALWMRLLPLLALLALWGPDPAAAFVNQHLCGSHLVEALYLVCGER...   \n",
       "11  MSCQISCKSRGRGGGGGGFRGFSSGSAVVSGGSRRSTSSFSCLSRH...   \n",
       "14  MRAWIFFLLCLAGRALAAPQQEALPDETEVVEETVAEVTEVSVGAN...   \n",
       "23  MAVKKIAIFGATGQTGLTTLAQAVQAGYEVTVLVRDSSRLPSEGPR...   \n",
       "25  MGCAEGKAVAAAAPTELQTKGKNGDGRRRSAKDHHPGKTLPENPAG...   \n",
       "\n",
       "                                             function   \n",
       "1   Lysozymes have primarily a bacteriolytic funct...  \\\n",
       "2   Transferrins are iron binding transport protei...   \n",
       "4   Binds water, Ca(2+), Na(+), K(+), fatty acids,...   \n",
       "7   Catalyzes the reduction of hydroperoxides in a...   \n",
       "8   Insulin decreases blood glucose concentration....   \n",
       "11  Probably contributes to terminal cornification...   \n",
       "14  Appears to regulate cell growth through intera...   \n",
       "23  Broad specificity oxidoreductase that catalyze...   \n",
       "25  Reduces disulfideprotein thioredoxin (Trx) to ...   \n",
       "\n",
       "                                          simmilarity   \n",
       "1         Belongs to the glycosyl hydrolase 22 family  \\\n",
       "2                   Belongs to the transferrin family   \n",
       "4                   Belongs to the ALB/AFP/VDB family   \n",
       "7        Belongs to the glutathione peroxidase family   \n",
       "8                       Belongs to the insulin family   \n",
       "11        Belongs to the intermediate filament family   \n",
       "14                        Belongs to the SPARC family   \n",
       "23                                                NaN   \n",
       "25  Belongs to the class-I pyridine nucleotide-dis...   \n",
       "\n",
       "                                  ctn_by_feature_type   \n",
       "1   {'Signal': 1, 'Chain': 1, 'Domain': 1, 'Active...  \\\n",
       "2   {'Signal': 1, 'Chain': 1, 'Domain': 2, 'Bindin...   \n",
       "4   {'Signal': 1, 'Propeptide': 1, 'Chain': 1, 'Do...   \n",
       "7   {'Chain': 1, 'Active site': 1, 'Site': 1, 'Non...   \n",
       "8   {'Signal': 1, 'Peptide': 2, 'Propeptide': 1, '...   \n",
       "11  {'Chain': 1, 'Domain': 1, 'Region': 9, 'Compos...   \n",
       "14  {'Signal': 1, 'Chain': 1, 'Domain': 3, 'Bindin...   \n",
       "23  {'Initiator methionine': 1, 'Chain': 1, 'Bindi...   \n",
       "25  {'Chain': 1, 'Domain': 1, 'Region': 2, 'Compos...   \n",
       "\n",
       "                                         interactions   \n",
       "1   [[{'interactantOne': {'uniProtKBAccession': 'P...  \\\n",
       "2   [[{'interactantOne': {'uniProtKBAccession': 'P...   \n",
       "4   [[{'interactantOne': {'uniProtKBAccession': 'P...   \n",
       "7   [[{'interactantOne': {'uniProtKBAccession': 'P...   \n",
       "8   [[{'interactantOne': {'uniProtKBAccession': 'P...   \n",
       "11  [[{'interactantOne': {'uniProtKBAccession': 'P...   \n",
       "14  [[{'interactantOne': {'uniProtKBAccession': 'P...   \n",
       "23  [[{'interactantOne': {'uniProtKBAccession': 'P...   \n",
       "25  [[{'interactantOne': {'uniProtKBAccession': 'Q...   \n",
       "\n",
       "                                         resource_url  \n",
       "1              https://en.wikipedia.org/wiki/Lysozyme  \n",
       "2           https://en.wikipedia.org/wiki/Transferrin  \n",
       "4                                 https://albumin.org  \n",
       "7             http://egp.gs.washington.edu/data/gpx1/  \n",
       "8   https://www.lillydiabetes.com/assets/pdf/pp-ld...  \n",
       "11           https://en.wikipedia.org/wiki/Keratin_2A  \n",
       "14          https://en.wikipedia.org/wiki/Osteonectin  \n",
       "23           http://egp.gs.washington.edu/data/blvrb/  \n",
       "25          http://egp.gs.washington.edu/data/txnrd1/  "
      ]
     },
     "execution_count": 70,
     "metadata": {},
     "output_type": "execute_result"
    }
   ],
   "source": [
    "df_stabilizers_selected[['uniprot_name', 'uniprot_id', 'seq', 'function', \n",
    "                         'simmilarity', 'ctn_by_feature_type', 'interactions', \n",
    "                         'resource_url']].explode('simmilarity')"
   ]
  },
  {
   "cell_type": "code",
   "execution_count": 71,
   "id": "3b5d7d1c-85dd-453f-b96f-1b09539603d1",
   "metadata": {},
   "outputs": [],
   "source": [
    "df_proteins_for_test_1 = \\\n",
    "df_stabilizers_selected[['uniprot_name', 'uniprot_id', 'seq', 'function', \n",
    "                         'simmilarity', 'ctn_by_feature_type', 'resource_url']]"
   ]
  },
  {
   "cell_type": "code",
   "execution_count": 94,
   "id": "335d4a32-9710-4857-aab8-990788ddb27f",
   "metadata": {},
   "outputs": [
    {
     "data": {
      "text/plain": [
       "Index(['uniprot_name', 'uniprot_id', 'seq', 'function', 'simmilarity',\n",
       "       'ctn_by_feature_type', 'resource_url'],\n",
       "      dtype='object')"
      ]
     },
     "execution_count": 94,
     "metadata": {},
     "output_type": "execute_result"
    }
   ],
   "source": [
    "df_proteins_for_test_1.columns"
   ]
  },
  {
   "cell_type": "code",
   "execution_count": 91,
   "id": "07b10917-913d-4be7-9ac4-7ffb138b53b6",
   "metadata": {},
   "outputs": [
    {
     "data": {
      "text/plain": [
       "dict_keys(['index', 'uniprot_name', 'uniprot_id', 'seq', 'function', 'simmilarity', 'ctn_by_feature_type', 'resource_url'])"
      ]
     },
     "execution_count": 91,
     "metadata": {},
     "output_type": "execute_result"
    }
   ],
   "source": [
    "df_proteins_for_test_1.reset_index().to_dict().keys()"
   ]
  },
  {
   "cell_type": "code",
   "execution_count": 93,
   "id": "cc6f1450-5895-491c-86a8-e119dd81f843",
   "metadata": {},
   "outputs": [
    {
     "data": {
      "text/plain": [
       "{'uniprot_name': {0: 'Lysozyme C', 1: 'Serotransferrin', 2: 'Albumin', 3: 'Glutathione peroxidase 1', 4: 'Insulin', 5: 'Keratin, type II cytoskeletal 2 epidermal', 6: 'SPARC', 7: 'Flavin reductase (NADPH)', 8: 'Thioredoxin reductase 1, cytoplasmic'}, 'uniprot_id': {0: 'P61626', 1: 'P02787', 2: 'P02768', 3: 'P07203', 4: 'P01308', 5: 'P35908', 6: 'P09486', 7: 'P30043', 8: 'Q16881'}, 'seq': {0: 'MKALIVLGLVLLSVTVQGKVFERCELARTLKRLGMDGYRGISLANWMCLAKWESGYNTRATNYNAGDRSTDYGIFQINSRYWCNDGKTPGAVNACHLSCSALLQDNIADAVACAKRVVRDPQGIRAWVAWRNRCQNRDVRQYVQGCGV', 1: 'MRLAVGALLVCAVLGLCLAVPDKTVRWCAVSEHEATKCQSFRDHMKSVIPSDGPSVACVKKASYLDCIRAIAANEADAVTLDAGLVYDAYLAPNNLKPVVAEFYGSKEDPQTFYYAVAVVKKDSGFQMNQLRGKKSCHTGLGRSAGWNIPIGLLYCDLPEPRKPLEKAVANFFSGSCAPCADGTDFPQLCQLCPGCGCSTLNQYFGYSGAFKCLKDGAGDVAFVKHSTIFENLANKADRDQYELLCLDNTRKPVDEYKDCHLAQVPSHTVVARSMGGKEDLIWELLNQAQEHFGKDKSKEFQLFSSPHGKDLLFKDSAHGFLKVPPRMDAKMYLGYEYVTAIRNLREGTCPEAPTDECKPVKWCALSHHERLKCDEWSVNSVGKIECVSAETTEDCIAKIMNGEADAMSLDGGFVYIAGKCGLVPVLAENYNKSDNCEDTPEAGYFAVAVVKKSASDLTWDNLKGKKSCHTAVGRTAGWNIPMGLLYNKINHCRFDEFFSEGCAPGSKKDSSLCKLCMGSGLNLCEPNNKEGYYGYTGAFRCLVEKGDVAFVKHQTVPQNTGGKNPDPWAKNLNEKDYELLCLDGTRKPVEEYANCHLARAPNHAVVTRKDKEACVHKILRQQQHLFGSNVTDCSGNFCLFRSETKDLLFRDDTVCLAKLHDRNTYEKYLGEEYVKAVGNLRKCSTSSLLEACTFRRP', 2: 'MKWVTFISLLFLFSSAYSRGVFRRDAHKSEVAHRFKDLGEENFKALVLIAFAQYLQQCPFEDHVKLVNEVTEFAKTCVADESAENCDKSLHTLFGDKLCTVATLRETYGEMADCCAKQEPERNECFLQHKDDNPNLPRLVRPEVDVMCTAFHDNEETFLKKYLYEIARRHPYFYAPELLFFAKRYKAAFTECCQAADKAACLLPKLDELRDEGKASSAKQRLKCASLQKFGERAFKAWAVARLSQRFPKAEFAEVSKLVTDLTKVHTECCHGDLLECADDRADLAKYICENQDSISSKLKECCEKPLLEKSHCIAEVENDEMPADLPSLAADFVESKDVCKNYAEAKDVFLGMFLYEYARRHPDYSVVLLLRLAKTYETTLEKCCAAADPHECYAKVFDEFKPLVEEPQNLIKQNCELFEQLGEYKFQNALLVRYTKKVPQVSTPTLVEVSRNLGKVGSKCCKHPEAKRMPCAEDYLSVVLNQLCVLHEKTPVSDRVTKCCTESLVNRRPCFSALEVDETYVPKEFNAETFTFHADICTLSEKERQIKKQTALVELVKHKPKATKEQLKAVMDDFAAFVEKCCKADDKETCFAEEGKKLVAASQAALGL', 3: 'MCAARLAAAAAAAQSVYAFSARPLAGGEPVSLGSLRGKVLLIENVASLUGTTVRDYTQMNELQRRLGPRGLVVLGFPCNQFGHQENAKNEEILNSLKYVRPGGGFEPNFMLFEKCEVNGAGAHPLFAFLREALPAPSDDATALMTDPKLITWSPVCRNDVAWNFEKFLVGPDGVPLRRYSRRFQTIDIEPDIEALLSQGPSCA', 4: 'MALWMRLLPLLALLALWGPDPAAAFVNQHLCGSHLVEALYLVCGERGFFYTPKTRREAEDLQVGQVELGGGPGAGSLQPLALEGSLQKRGIVEQCCTSICSLYQLENYCN', 5: 'MSCQISCKSRGRGGGGGGFRGFSSGSAVVSGGSRRSTSSFSCLSRHGGGGGGFGGGGFGSRSLVGLGGTKSISISVAGGGGGFGAAGGFGGRGGGFGGGSSFGGGSGFSGGGFGGGGFGGGRFGGFGGPGGVGGLGGPGGFGPGGYPGGIHEVSVNQSLLQPLNVKVDPEIQNVKAQEREQIKTLNNKFASFIDKVRFLEQQNQVLQTKWELLQQMNVGTRPINLEPIFQGYIDSLKRYLDGLTAERTSQNSELNNMQDLVEDYKKKYEDEINKRTAAENDFVTLKKDVDNAYMIKVELQSKVDLLNQEIEFLKVLYDAEISQIHQSVTDTNVILSMDNSRNLDLDSIIAEVKAQYEEIAQRSKEEAEALYHSKYEELQVTVGRHGDSLKEIKIEISELNRVIQRLQGEIAHVKKQCKNVQDAIADAEQRGEHALKDARNKLNDLEEALQQAKEDLARLLRDYQELMNVKLALDVEIATYRKLLEGEECRMSGDLSSNVTVSVTSSTISSNVASKAAFGGSGGRGSSSGGGYSSGSSSYGSGGRQSGSRGGSGGGGSISGGGYGSGGGSGGRYGSGGGSKGGSISGGGYGSGGGKHSSGGGSRGGSSSGGGYGSGGGGSSSVKGSSGEAFGSSVTFSFR', 6: 'MRAWIFFLLCLAGRALAAPQQEALPDETEVVEETVAEVTEVSVGANPVQVEVGEFDDGAEETEEEVVAENPCQNHHCKHGKVCELDENNTPMCVCQDPTSCPAPIGEFEKVCSNDNKTFDSSCHFFATKCTLEGTKKGHKLHLDYIGPCKYIPPCLDSELTEFPLRMRDWLKNVLVTLYERDEDNNLLTEKQKLRVKKIHENEKRLEAGDHPVELLARDFEKNYNMYIFPVHWQFGQLDQHPIDGYLSHTELAPLRAPLIPMEHCTTRFFETCDLDNDKYIALDEWAGCFGIKQKDIDKDLVI', 7: 'MAVKKIAIFGATGQTGLTTLAQAVQAGYEVTVLVRDSSRLPSEGPRPAHVVVGDVLQAADVDKTVAGQDAVIVLLGTRNDLSPTTVMSEGARNIVAAMKAHGVDKVVACTSAFLLWDPTKVPPRLQAVTDDHIRMHKVLRESGLKYVAVMPPHIGDQPLTGAYTVTLDGRGPSRVISKHDLGHFMLRCLTTDEYDGHSTYPSHQYQ', 8: 'MGCAEGKAVAAAAPTELQTKGKNGDGRRRSAKDHHPGKTLPENPAGFTSTATADSRALLQAYIDGHSVVIFSRSTCTRCTEVKKLFKSLCVPYFVLELDQTEDGRALEGTLSELAAETDLPVVFVKQRKIGGHGPTLKAYQEGRLQKLLKMNGPEDLPKSYDYDLIIIGGGSGGLAAAKEAAQYGKKVMVLDFVTPTPLGTRWGLGGTCVNVGCIPKKLMHQAALLGQALQDSRNYGWKVEETVKHDWDRMIEAVQNHIGSLNWGYRVALREKKVVYENAYGQFIGPHRIKATNNKGKEKIYSAERFLIATGERPRYLGIPGDKEYCISSDDLFSLPYCPGKTLVVGASYVALECAGFLAGIGLDVTVMVRSILLRGFDQDMANKIGEHMEEHGIKFIRQFVPIKVEQIEAGTPGRLRVVAQSTNSEEIIEGEYNTVMLAIGRDACTRKIGLETVGVKINEKTGKIPVTDEEQTNVPYIYAIGDILEDKVELTPVAIQAGRLLAQRLYAGSTVKCDYENVPTTVFTPLEYGACGLSEEKAVEKFGEENIEVYHSYFWPLEWTIPSRDNNKCYAKIICNTKDNERVVGFHVLGPNAGEVTQGFAAALKCGLTKKQLDSTIGIHPVCAEVFTTLSVTKRSGASILQAGCUG'}, 'function': {0: 'Lysozymes have primarily a bacteriolytic function; those in tissues and body fluids are associated with the monocyte-macrophage system and enhance the activity of immunoagents', 1: 'Transferrins are iron binding transport proteins which can bind two Fe(3+) ions in association with the binding of an anion, usually bicarbonate. It is responsible for the transport of iron from sites of absorption and heme degradation to those of storage and utilization. Serum transferrin may also have a further role in stimulating cell proliferation', 2: 'Binds water, Ca(2+), Na(+), K(+), fatty acids, hormones, bilirubin and drugs (Probable). Its main function is the regulation of the colloidal osmotic pressure of blood (Probable). Major zinc transporter in plasma, typically binds about 80% of all plasma zinc (PubMed:19021548). Major calcium and magnesium transporter in plasma, binds approximately 45% of circulating calcium and magnesium in plasma (By similarity). Potentially has more than two calcium-binding sites and might additionally bind calcium in a non-specific manner (By similarity). The shared binding site between zinc and calcium at residue Asp-273 suggests a crosstalk between zinc and calcium transport in the blood (By similarity). The rank order of affinity is zinc > calcium > magnesium (By similarity). Binds to the bacterial siderophore enterobactin and inhibits enterobactin-mediated iron uptake of E.coli from ferric transferrin, and may thereby limit the utilization of iron and growth of enteric bacteria such as E.coli (PubMed:6234017). Does not prevent iron uptake by the bacterial siderophore aerobactin (PubMed:6234017)', 3: 'Catalyzes the reduction of hydroperoxides in a glutathione-dependent manner thus regulating cellular redox homeostasis (PubMed:11115402, PubMed:36608588). Can reduce small soluble hydroperoxides such as H2O2, cumene hydroperoxide and tert-butyl hydroperoxide, as well as several fatty acid-derived hydroperoxides (PubMed:11115402, PubMed:36608588). In platelets catalyzes the reduction of 12-hydroperoxyeicosatetraenoic acid, the primary product of the arachidonate 12-lipoxygenase pathway (PubMed:11115402)', 4: 'Insulin decreases blood glucose concentration. It increases cell permeability to monosaccharides, amino acids and fatty acids. It accelerates glycolysis, the pentose phosphate cycle, and glycogen synthesis in liver', 5: 'Probably contributes to terminal cornification (PubMed:1380918). Associated with keratinocyte activation, proliferation and keratinization (PubMed:12598329). Required for maintenance of corneocytes and keratin filaments in suprabasal keratinocytes in the epidermis of the ear, potentially via moderation of expression and localization of keratins and their partner proteins (By similarity). Plays a role in the establishment of the epidermal barrier on plantar skin (By similarity)', 6: 'Appears to regulate cell growth through interactions with the extracellular matrix and cytokines. Binds calcium and copper, several types of collagen, albumin, thrombospondin, PDGF and cell membranes. There are two calcium binding sites; an acidic domain that binds 5 to 8 Ca(2+) with a low affinity and an EF-hand loop that binds a Ca(2+) ion with a high affinity', 7: 'Broad specificity oxidoreductase that catalyzes the NADPH-dependent reduction of a variety of flavins, such as riboflavin, FAD or FMN, biliverdins, methemoglobin and PQQ (pyrroloquinoline quinone). Contributes to heme catabolism and metabolizes linear tetrapyrroles. Can also reduce the complexed Fe(3+) iron to Fe(2+) in the presence of FMN and NADPH. In the liver, converts biliverdin to bilirubin', 8: 'Reduces disulfideprotein thioredoxin (Trx) to its dithiol-containing form (PubMed:8577704). Homodimeric flavoprotein involved in the regulation of cellular redox reactions, growth and differentiation. Contains a selenocysteine residue at the C-terminal active site that is essential for catalysis (Probable). Also has reductase activity on hydrogen peroxide (H2O2) (PubMed:10849437)'}, 'simmilarity': {0: ['Belongs to the glycosyl hydrolase 22 family'], 1: ['Belongs to the transferrin family'], 2: ['Belongs to the ALB/AFP/VDB family'], 3: ['Belongs to the glutathione peroxidase family'], 4: ['Belongs to the insulin family'], 5: ['Belongs to the intermediate filament family'], 6: ['Belongs to the SPARC family'], 7: [], 8: ['Belongs to the class-I pyridine nucleotide-disulfide oxidoreductase family']}, 'ctn_by_feature_type': {0: {'Signal': 1, 'Chain': 1, 'Domain': 1, 'Active site': 2, 'Disulfide bond': 4, 'Natural variant': 3, 'Sequence conflict': 6, 'Helix': 8, 'Beta strand': 7, 'Turn': 5}, 1: {'Signal': 1, 'Chain': 1, 'Domain': 2, 'Binding site': 16, 'Modified residue': 3, 'Glycosylation': 4, 'Disulfide bond': 19, 'Natural variant': 16, 'Sequence conflict': 10, 'Beta strand': 42, 'Helix': 37, 'Turn': 10}, 2: {'Signal': 1, 'Propeptide': 1, 'Chain': 1, 'Domain': 3, 'Binding site': 12, 'Site': 38, 'Modified residue': 14, 'Glycosylation': 24, 'Disulfide bond': 17, 'Alternative sequence': 2, 'Natural variant': 66, 'Mutagenesis': 1, 'Sequence conflict': 16, 'Helix': 34, 'Beta strand': 14, 'Turn': 8}, 3: {'Chain': 1, 'Active site': 1, 'Site': 1, 'Non-standard residue': 1, 'Modified residue': 9, 'Alternative sequence': 2, 'Natural variant': 5, 'Sequence conflict': 1, 'Helix': 10, 'Beta strand': 7, 'Turn': 1}, 4: {'Signal': 1, 'Peptide': 2, 'Propeptide': 1, 'Disulfide bond': 3, 'Natural variant': 27, 'Beta strand': 5, 'Helix': 5, 'Turn': 3}, 5: {'Chain': 1, 'Domain': 1, 'Region': 9, 'Compositional bias': 2, 'Site': 1, 'Modified residue': 5, 'Natural variant': 18, 'Sequence conflict': 1}, 6: {'Signal': 1, 'Chain': 1, 'Domain': 3, 'Binding site': 5, 'Glycosylation': 1, 'Disulfide bond': 7, 'Natural variant': 4, 'Mutagenesis': 5, 'Sequence conflict': 3, 'Turn': 5, 'Beta strand': 8, 'Helix': 16}, 7: {'Initiator methionine': 1, 'Chain': 1, 'Binding site': 7, 'Modified residue': 2, 'Natural variant': 1, 'Mutagenesis': 1, 'Sequence conflict': 1, 'Beta strand': 11, 'Helix': 10, 'Turn': 1}, 8: {'Chain': 1, 'Domain': 1, 'Region': 2, 'Compositional bias': 1, 'Active site': 1, 'Binding site': 18, 'Non-standard residue': 1, 'Modified residue': 3, 'Disulfide bond': 1, 'Cross-link': 1, 'Alternative sequence': 9, 'Natural variant': 1, 'Sequence conflict': 13, 'Beta strand': 24, 'Helix': 16, 'Turn': 8}}, 'resource_url': {0: 'https://en.wikipedia.org/wiki/Lysozyme', 1: 'https://en.wikipedia.org/wiki/Transferrin', 2: 'https://albumin.org', 3: 'http://egp.gs.washington.edu/data/gpx1/', 4: 'https://www.lillydiabetes.com/assets/pdf/pp-ld-us-1198-types_of_treatments.pdf', 5: 'https://en.wikipedia.org/wiki/Keratin_2A', 6: 'https://en.wikipedia.org/wiki/Osteonectin', 7: 'http://egp.gs.washington.edu/data/blvrb/', 8: 'http://egp.gs.washington.edu/data/txnrd1/'}}"
      ]
     },
     "execution_count": 93,
     "metadata": {},
     "output_type": "execute_result"
    }
   ],
   "source": [
    "df_proteins_for_test_1.reset_index(drop=True).to_dict()"
   ]
  },
  {
   "cell_type": "code",
   "execution_count": 95,
   "id": "f3c2ad86-415f-4b08-86c4-caefb7c460c1",
   "metadata": {},
   "outputs": [
    {
     "data": {
      "text/html": [
       "<div>\n",
       "<style scoped>\n",
       "    .dataframe tbody tr th:only-of-type {\n",
       "        vertical-align: middle;\n",
       "    }\n",
       "\n",
       "    .dataframe tbody tr th {\n",
       "        vertical-align: top;\n",
       "    }\n",
       "\n",
       "    .dataframe thead th {\n",
       "        text-align: right;\n",
       "    }\n",
       "</style>\n",
       "<table border=\"1\" class=\"dataframe\">\n",
       "  <thead>\n",
       "    <tr style=\"text-align: right;\">\n",
       "      <th></th>\n",
       "      <th>uniprot_name</th>\n",
       "      <th>uniprot_id</th>\n",
       "      <th>seq</th>\n",
       "      <th>function</th>\n",
       "      <th>simmilarity</th>\n",
       "      <th>ctn_by_feature_type</th>\n",
       "      <th>resource_url</th>\n",
       "    </tr>\n",
       "  </thead>\n",
       "  <tbody>\n",
       "    <tr>\n",
       "      <th>1</th>\n",
       "      <td>Lysozyme C</td>\n",
       "      <td>P61626</td>\n",
       "      <td>MKALIVLGLVLLSVTVQGKVFERCELARTLKRLGMDGYRGISLANW...</td>\n",
       "      <td>Lysozymes have primarily a bacteriolytic funct...</td>\n",
       "      <td>[Belongs to the glycosyl hydrolase 22 family]</td>\n",
       "      <td>{'Signal': 1, 'Chain': 1, 'Domain': 1, 'Active...</td>\n",
       "      <td>https://en.wikipedia.org/wiki/Lysozyme</td>\n",
       "    </tr>\n",
       "    <tr>\n",
       "      <th>2</th>\n",
       "      <td>Serotransferrin</td>\n",
       "      <td>P02787</td>\n",
       "      <td>MRLAVGALLVCAVLGLCLAVPDKTVRWCAVSEHEATKCQSFRDHMK...</td>\n",
       "      <td>Transferrins are iron binding transport protei...</td>\n",
       "      <td>[Belongs to the transferrin family]</td>\n",
       "      <td>{'Signal': 1, 'Chain': 1, 'Domain': 2, 'Bindin...</td>\n",
       "      <td>https://en.wikipedia.org/wiki/Transferrin</td>\n",
       "    </tr>\n",
       "    <tr>\n",
       "      <th>4</th>\n",
       "      <td>Albumin</td>\n",
       "      <td>P02768</td>\n",
       "      <td>MKWVTFISLLFLFSSAYSRGVFRRDAHKSEVAHRFKDLGEENFKAL...</td>\n",
       "      <td>Binds water, Ca(2+), Na(+), K(+), fatty acids,...</td>\n",
       "      <td>[Belongs to the ALB/AFP/VDB family]</td>\n",
       "      <td>{'Signal': 1, 'Propeptide': 1, 'Chain': 1, 'Do...</td>\n",
       "      <td>https://albumin.org</td>\n",
       "    </tr>\n",
       "    <tr>\n",
       "      <th>7</th>\n",
       "      <td>Glutathione peroxidase 1</td>\n",
       "      <td>P07203</td>\n",
       "      <td>MCAARLAAAAAAAQSVYAFSARPLAGGEPVSLGSLRGKVLLIENVA...</td>\n",
       "      <td>Catalyzes the reduction of hydroperoxides in a...</td>\n",
       "      <td>[Belongs to the glutathione peroxidase family]</td>\n",
       "      <td>{'Chain': 1, 'Active site': 1, 'Site': 1, 'Non...</td>\n",
       "      <td>http://egp.gs.washington.edu/data/gpx1/</td>\n",
       "    </tr>\n",
       "    <tr>\n",
       "      <th>8</th>\n",
       "      <td>Insulin</td>\n",
       "      <td>P01308</td>\n",
       "      <td>MALWMRLLPLLALLALWGPDPAAAFVNQHLCGSHLVEALYLVCGER...</td>\n",
       "      <td>Insulin decreases blood glucose concentration....</td>\n",
       "      <td>[Belongs to the insulin family]</td>\n",
       "      <td>{'Signal': 1, 'Peptide': 2, 'Propeptide': 1, '...</td>\n",
       "      <td>https://www.lillydiabetes.com/assets/pdf/pp-ld...</td>\n",
       "    </tr>\n",
       "    <tr>\n",
       "      <th>11</th>\n",
       "      <td>Keratin, type II cytoskeletal 2 epidermal</td>\n",
       "      <td>P35908</td>\n",
       "      <td>MSCQISCKSRGRGGGGGGFRGFSSGSAVVSGGSRRSTSSFSCLSRH...</td>\n",
       "      <td>Probably contributes to terminal cornification...</td>\n",
       "      <td>[Belongs to the intermediate filament family]</td>\n",
       "      <td>{'Chain': 1, 'Domain': 1, 'Region': 9, 'Compos...</td>\n",
       "      <td>https://en.wikipedia.org/wiki/Keratin_2A</td>\n",
       "    </tr>\n",
       "    <tr>\n",
       "      <th>14</th>\n",
       "      <td>SPARC</td>\n",
       "      <td>P09486</td>\n",
       "      <td>MRAWIFFLLCLAGRALAAPQQEALPDETEVVEETVAEVTEVSVGAN...</td>\n",
       "      <td>Appears to regulate cell growth through intera...</td>\n",
       "      <td>[Belongs to the SPARC family]</td>\n",
       "      <td>{'Signal': 1, 'Chain': 1, 'Domain': 3, 'Bindin...</td>\n",
       "      <td>https://en.wikipedia.org/wiki/Osteonectin</td>\n",
       "    </tr>\n",
       "    <tr>\n",
       "      <th>23</th>\n",
       "      <td>Flavin reductase (NADPH)</td>\n",
       "      <td>P30043</td>\n",
       "      <td>MAVKKIAIFGATGQTGLTTLAQAVQAGYEVTVLVRDSSRLPSEGPR...</td>\n",
       "      <td>Broad specificity oxidoreductase that catalyze...</td>\n",
       "      <td>[]</td>\n",
       "      <td>{'Initiator methionine': 1, 'Chain': 1, 'Bindi...</td>\n",
       "      <td>http://egp.gs.washington.edu/data/blvrb/</td>\n",
       "    </tr>\n",
       "    <tr>\n",
       "      <th>25</th>\n",
       "      <td>Thioredoxin reductase 1, cytoplasmic</td>\n",
       "      <td>Q16881</td>\n",
       "      <td>MGCAEGKAVAAAAPTELQTKGKNGDGRRRSAKDHHPGKTLPENPAG...</td>\n",
       "      <td>Reduces disulfideprotein thioredoxin (Trx) to ...</td>\n",
       "      <td>[Belongs to the class-I pyridine nucleotide-di...</td>\n",
       "      <td>{'Chain': 1, 'Domain': 1, 'Region': 2, 'Compos...</td>\n",
       "      <td>http://egp.gs.washington.edu/data/txnrd1/</td>\n",
       "    </tr>\n",
       "  </tbody>\n",
       "</table>\n",
       "</div>"
      ],
      "text/plain": [
       "                                 uniprot_name uniprot_id   \n",
       "1                                  Lysozyme C     P61626  \\\n",
       "2                             Serotransferrin     P02787   \n",
       "4                                     Albumin     P02768   \n",
       "7                    Glutathione peroxidase 1     P07203   \n",
       "8                                     Insulin     P01308   \n",
       "11  Keratin, type II cytoskeletal 2 epidermal     P35908   \n",
       "14                                      SPARC     P09486   \n",
       "23                   Flavin reductase (NADPH)     P30043   \n",
       "25       Thioredoxin reductase 1, cytoplasmic     Q16881   \n",
       "\n",
       "                                                  seq   \n",
       "1   MKALIVLGLVLLSVTVQGKVFERCELARTLKRLGMDGYRGISLANW...  \\\n",
       "2   MRLAVGALLVCAVLGLCLAVPDKTVRWCAVSEHEATKCQSFRDHMK...   \n",
       "4   MKWVTFISLLFLFSSAYSRGVFRRDAHKSEVAHRFKDLGEENFKAL...   \n",
       "7   MCAARLAAAAAAAQSVYAFSARPLAGGEPVSLGSLRGKVLLIENVA...   \n",
       "8   MALWMRLLPLLALLALWGPDPAAAFVNQHLCGSHLVEALYLVCGER...   \n",
       "11  MSCQISCKSRGRGGGGGGFRGFSSGSAVVSGGSRRSTSSFSCLSRH...   \n",
       "14  MRAWIFFLLCLAGRALAAPQQEALPDETEVVEETVAEVTEVSVGAN...   \n",
       "23  MAVKKIAIFGATGQTGLTTLAQAVQAGYEVTVLVRDSSRLPSEGPR...   \n",
       "25  MGCAEGKAVAAAAPTELQTKGKNGDGRRRSAKDHHPGKTLPENPAG...   \n",
       "\n",
       "                                             function   \n",
       "1   Lysozymes have primarily a bacteriolytic funct...  \\\n",
       "2   Transferrins are iron binding transport protei...   \n",
       "4   Binds water, Ca(2+), Na(+), K(+), fatty acids,...   \n",
       "7   Catalyzes the reduction of hydroperoxides in a...   \n",
       "8   Insulin decreases blood glucose concentration....   \n",
       "11  Probably contributes to terminal cornification...   \n",
       "14  Appears to regulate cell growth through intera...   \n",
       "23  Broad specificity oxidoreductase that catalyze...   \n",
       "25  Reduces disulfideprotein thioredoxin (Trx) to ...   \n",
       "\n",
       "                                          simmilarity   \n",
       "1       [Belongs to the glycosyl hydrolase 22 family]  \\\n",
       "2                 [Belongs to the transferrin family]   \n",
       "4                 [Belongs to the ALB/AFP/VDB family]   \n",
       "7      [Belongs to the glutathione peroxidase family]   \n",
       "8                     [Belongs to the insulin family]   \n",
       "11      [Belongs to the intermediate filament family]   \n",
       "14                      [Belongs to the SPARC family]   \n",
       "23                                                 []   \n",
       "25  [Belongs to the class-I pyridine nucleotide-di...   \n",
       "\n",
       "                                  ctn_by_feature_type   \n",
       "1   {'Signal': 1, 'Chain': 1, 'Domain': 1, 'Active...  \\\n",
       "2   {'Signal': 1, 'Chain': 1, 'Domain': 2, 'Bindin...   \n",
       "4   {'Signal': 1, 'Propeptide': 1, 'Chain': 1, 'Do...   \n",
       "7   {'Chain': 1, 'Active site': 1, 'Site': 1, 'Non...   \n",
       "8   {'Signal': 1, 'Peptide': 2, 'Propeptide': 1, '...   \n",
       "11  {'Chain': 1, 'Domain': 1, 'Region': 9, 'Compos...   \n",
       "14  {'Signal': 1, 'Chain': 1, 'Domain': 3, 'Bindin...   \n",
       "23  {'Initiator methionine': 1, 'Chain': 1, 'Bindi...   \n",
       "25  {'Chain': 1, 'Domain': 1, 'Region': 2, 'Compos...   \n",
       "\n",
       "                                         resource_url  \n",
       "1              https://en.wikipedia.org/wiki/Lysozyme  \n",
       "2           https://en.wikipedia.org/wiki/Transferrin  \n",
       "4                                 https://albumin.org  \n",
       "7             http://egp.gs.washington.edu/data/gpx1/  \n",
       "8   https://www.lillydiabetes.com/assets/pdf/pp-ld...  \n",
       "11           https://en.wikipedia.org/wiki/Keratin_2A  \n",
       "14          https://en.wikipedia.org/wiki/Osteonectin  \n",
       "23           http://egp.gs.washington.edu/data/blvrb/  \n",
       "25          http://egp.gs.washington.edu/data/txnrd1/  "
      ]
     },
     "execution_count": 95,
     "metadata": {},
     "output_type": "execute_result"
    }
   ],
   "source": [
    "df_proteins_for_test_1"
   ]
  }
 ],
 "metadata": {
  "kernelspec": {
   "display_name": "p310-openAI",
   "language": "python",
   "name": "p310-openai"
  },
  "language_info": {
   "codemirror_mode": {
    "name": "ipython",
    "version": 3
   },
   "file_extension": ".py",
   "mimetype": "text/x-python",
   "name": "python",
   "nbconvert_exporter": "python",
   "pygments_lexer": "ipython3",
   "version": "3.10.12"
  }
 },
 "nbformat": 4,
 "nbformat_minor": 5
}
