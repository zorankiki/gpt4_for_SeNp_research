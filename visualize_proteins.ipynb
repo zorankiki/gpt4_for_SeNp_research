{
 "cells": [
  {
   "cell_type": "code",
   "execution_count": 13,
   "id": "a3d5bea3-a3be-4656-b57d-316469ce67f0",
   "metadata": {},
   "outputs": [
    {
     "data": {
      "application/vnd.jupyter.widget-view+json": {
       "model_id": "85403ccc70b644b282ad8504c957fbec",
       "version_major": 2,
       "version_minor": 0
      },
      "text/plain": [
       "NGLWidget()"
      ]
     },
     "metadata": {},
     "output_type": "display_data"
    }
   ],
   "source": [
    "import nglview\n",
    "view = nglview.show_pdbid(\"2l7u\")  # load \"3pqr\" from RCSB PDB and display viewer widget\n",
    "view"
   ]
  },
  {
   "cell_type": "code",
   "execution_count": 14,
   "id": "54eaab8b-9edb-48e7-b6a8-7927a8d9b726",
   "metadata": {},
   "outputs": [],
   "source": [
    "# view.add_representation('ball_and_stick', selection='protein')"
   ]
  },
  {
   "cell_type": "code",
   "execution_count": 20,
   "id": "d365dacc-0216-4534-8fdc-3a4953452361",
   "metadata": {},
   "outputs": [],
   "source": [
    "# view.clear_representations()"
   ]
  },
  {
   "cell_type": "code",
   "execution_count": null,
   "id": "7166de59-0f2f-4f26-963d-6a28d76e085c",
   "metadata": {},
   "outputs": [],
   "source": []
  },
  {
   "cell_type": "code",
   "execution_count": 17,
   "id": "3bed04b8-0cc5-4b35-8108-f3b347ea7b0f",
   "metadata": {},
   "outputs": [
    {
     "data": {
      "text/plain": [
       "<nglview.component.ComponentViewer at 0x7a7e7ee1e950>"
      ]
     },
     "execution_count": 17,
     "metadata": {},
     "output_type": "execute_result"
    }
   ],
   "source": [
    "# view.add_hyperball()\n",
    "# view.add_pdbid(\"2l7u\")"
   ]
  },
  {
   "cell_type": "code",
   "execution_count": 21,
   "id": "4237571c-dac9-4633-915d-d80da29b9d31",
   "metadata": {},
   "outputs": [
    {
     "data": {
      "application/vnd.jupyter.widget-view+json": {
       "model_id": "85403ccc70b644b282ad8504c957fbec",
       "version_major": 2,
       "version_minor": 0
      },
      "text/plain": [
       "NGLWidget(n_components=2)"
      ]
     },
     "metadata": {},
     "output_type": "display_data"
    }
   ],
   "source": [
    "view"
   ]
  }
 ],
 "metadata": {
  "kernelspec": {
   "display_name": "p310-openAI",
   "language": "python",
   "name": "p310-openai"
  },
  "language_info": {
   "codemirror_mode": {
    "name": "ipython",
    "version": 3
   },
   "file_extension": ".py",
   "mimetype": "text/x-python",
   "name": "python",
   "nbconvert_exporter": "python",
   "pygments_lexer": "ipython3",
   "version": "3.10.12"
  }
 },
 "nbformat": 4,
 "nbformat_minor": 5
}
