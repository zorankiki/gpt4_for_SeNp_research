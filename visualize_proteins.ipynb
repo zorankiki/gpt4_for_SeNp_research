{
 "cells": [
  {
   "cell_type": "markdown",
   "id": "7402d600-5721-4cd9-bf42-ddcf4221678a",
   "metadata": {},
   "source": [
    "# map uniprot entry id to pdb entry id using\n",
    "# https://www.uniprot.org/id-mapping"
   ]
  },
  {
   "cell_type": "code",
   "execution_count": 1,
   "id": "a3d5bea3-a3be-4656-b57d-316469ce67f0",
   "metadata": {},
   "outputs": [
    {
     "data": {
      "application/vnd.jupyter.widget-view+json": {
       "model_id": "66303ef6ec8142f48166d2306531f3f5",
       "version_major": 2,
       "version_minor": 0
      },
      "text/plain": []
     },
     "metadata": {},
     "output_type": "display_data"
    },
    {
     "data": {
      "application/vnd.jupyter.widget-view+json": {
       "model_id": "3431ca6b09874c79a09a88374b832a2e",
       "version_major": 2,
       "version_minor": 0
      },
      "text/plain": [
       "NGLWidget()"
      ]
     },
     "metadata": {},
     "output_type": "display_data"
    }
   ],
   "source": [
    "import nglview\n",
    "view = nglview.show_pdbid(\"6do3\")  # load \"3pqr\" from RCSB PDB and display viewer widget\n",
    "view"
   ]
  },
  {
   "cell_type": "code",
   "execution_count": 8,
   "id": "05e26f25-f6fa-4a13-a7f5-1cda0cf292fa",
   "metadata": {},
   "outputs": [],
   "source": [
    "view.add_cartoon(selection=\"protein\")\n",
    "view.add_surface(selection=\"protein\", opacity=0.4)"
   ]
  },
  {
   "cell_type": "code",
   "execution_count": 3,
   "id": "1b61a44d-8d07-4897-b92c-7379fe131d05",
   "metadata": {},
   "outputs": [],
   "source": [
    "# view.add_helixorient()"
   ]
  },
  {
   "cell_type": "code",
   "execution_count": 4,
   "id": "b5616007-9a17-48ac-8916-9f115ceb70a6",
   "metadata": {},
   "outputs": [],
   "source": [
    "# view.clear_representations()"
   ]
  },
  {
   "cell_type": "code",
   "execution_count": 5,
   "id": "937255a4-77ae-4fcb-90eb-1cd2ffe6fa23",
   "metadata": {},
   "outputs": [
    {
     "data": {
      "application/vnd.jupyter.widget-view+json": {
       "model_id": "d4e80325ccd345ab916e9fc25423890e",
       "version_major": 2,
       "version_minor": 0
      },
      "text/plain": [
       "NGLWidget()"
      ]
     },
     "metadata": {},
     "output_type": "display_data"
    }
   ],
   "source": [
    "view = nglview.show_pdbid(\"6qa0\")  # load \"3pqr\" from RCSB PDB and display viewer widget\n",
    "view"
   ]
  },
  {
   "cell_type": "code",
   "execution_count": 7,
   "id": "aef31ade-5654-4cf1-8622-012683b410f1",
   "metadata": {},
   "outputs": [
    {
     "data": {
      "application/vnd.jupyter.widget-view+json": {
       "model_id": "f567159eb77b4244b1e2ef098f9e04a1",
       "version_major": 2,
       "version_minor": 0
      },
      "text/plain": [
       "NGLWidget()"
      ]
     },
     "metadata": {},
     "output_type": "display_data"
    }
   ],
   "source": [
    "view = nglview.show_pdbid(\"1n3u\")\n",
    "view"
   ]
  }
 ],
 "metadata": {
  "kernelspec": {
   "display_name": "p310-openAI",
   "language": "python",
   "name": "p310-openai"
  },
  "language_info": {
   "codemirror_mode": {
    "name": "ipython",
    "version": 3
   },
   "file_extension": ".py",
   "mimetype": "text/x-python",
   "name": "python",
   "nbconvert_exporter": "python",
   "pygments_lexer": "ipython3",
   "version": "3.10.12"
  }
 },
 "nbformat": 4,
 "nbformat_minor": 5
}
